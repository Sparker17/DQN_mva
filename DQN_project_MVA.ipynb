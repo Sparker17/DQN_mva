{
  "nbformat": 4,
  "nbformat_minor": 0,
  "metadata": {
    "kernelspec": {
      "display_name": "Python 3",
      "language": "python",
      "name": "python3"
    },
    "language_info": {
      "codemirror_mode": {
        "name": "ipython",
        "version": 3
      },
      "file_extension": ".py",
      "mimetype": "text/x-python",
      "name": "python",
      "nbconvert_exporter": "python",
      "pygments_lexer": "ipython3",
      "version": "3.6.8"
    },
    "colab": {
      "name": "DQN_project_MVA.ipynb",
      "provenance": []
    }
  },
  "cells": [
    {
      "cell_type": "markdown",
      "metadata": {
        "id": "Z-EPpBCieUVC",
        "colab_type": "text"
      },
      "source": [
        "# Robin San Roman TP DQN \n",
        "\n"
      ]
    },
    {
      "cell_type": "markdown",
      "metadata": {
        "id": "YS__jXIjkAZz",
        "colab_type": "text"
      },
      "source": [
        "**You may need to install [OpenCV](https://pypi.python.org/pypi/opencv-python) and [scikit-video](http://www.scikit-video.org/stable/).**"
      ]
    },
    {
      "cell_type": "code",
      "metadata": {
        "id": "XbhiyQN5kAZ1",
        "colab_type": "code",
        "outputId": "77992b3e-54a3-4a7e-b243-708a54d369cb",
        "colab": {
          "base_uri": "https://localhost:8080/",
          "height": 236
        }
      },
      "source": [
        "import keras\n",
        "import numpy as np\n",
        "import io\n",
        "import base64\n",
        "from IPython.display import HTML\n",
        "!pip install sk-video\n",
        "import skvideo\n",
        "import skvideo.io\n",
        "import cv2\n",
        "import json\n",
        "import random\n",
        "\n",
        "from keras.models import Sequential,model_from_json\n",
        "from keras.layers.core import Dense\n",
        "from keras.optimizers import sgd\n",
        "from keras.layers import Conv2D, MaxPooling2D, Activation, AveragePooling2D,Reshape,BatchNormalization, Flatten, Input"
      ],
      "execution_count": 0,
      "outputs": [
        {
          "output_type": "stream",
          "text": [
            "Using TensorFlow backend.\n"
          ],
          "name": "stderr"
        },
        {
          "output_type": "display_data",
          "data": {
            "text/html": [
              "<p style=\"color: red;\">\n",
              "The default version of TensorFlow in Colab will soon switch to TensorFlow 2.x.<br>\n",
              "We recommend you <a href=\"https://www.tensorflow.org/guide/migrate\" target=\"_blank\">upgrade</a> now \n",
              "or ensure your notebook will continue to use TensorFlow 1.x via the <code>%tensorflow_version 1.x</code> magic:\n",
              "<a href=\"https://colab.research.google.com/notebooks/tensorflow_version.ipynb\" target=\"_blank\">more info</a>.</p>\n"
            ],
            "text/plain": [
              "<IPython.core.display.HTML object>"
            ]
          },
          "metadata": {
            "tags": []
          }
        },
        {
          "output_type": "stream",
          "text": [
            "Collecting sk-video\n",
            "\u001b[?25l  Downloading https://files.pythonhosted.org/packages/dd/3f/ce848b8b2062ad1ccf1449094a740c775f6c761339f411e44f1e090f23a7/sk_video-1.1.10-py2.py3-none-any.whl (2.3MB)\n",
            "\u001b[K     |████████████████████████████████| 2.3MB 4.9MB/s \n",
            "\u001b[?25hRequirement already satisfied: scipy in /usr/local/lib/python3.6/dist-packages (from sk-video) (1.4.1)\n",
            "Requirement already satisfied: numpy in /usr/local/lib/python3.6/dist-packages (from sk-video) (1.17.5)\n",
            "Installing collected packages: sk-video\n",
            "Successfully installed sk-video-1.1.10\n"
          ],
          "name": "stdout"
        }
      ]
    },
    {
      "cell_type": "markdown",
      "metadata": {
        "id": "wb9uaPtlkAZ6",
        "colab_type": "text"
      },
      "source": [
        "# MiniProject on Deep Reinforcement Learning"
      ]
    },
    {
      "cell_type": "markdown",
      "metadata": {
        "id": "D-zI-33BkAZ7",
        "colab_type": "text"
      },
      "source": [
        "__Notations__: $E_p$ is the expectation under probability $p$. Please justify each of your answer and widely comment your code."
      ]
    },
    {
      "cell_type": "markdown",
      "metadata": {
        "id": "frOOpXxnkAZ8",
        "colab_type": "text"
      },
      "source": [
        "# Context"
      ]
    },
    {
      "cell_type": "markdown",
      "metadata": {
        "id": "qZjlP3nSkAZ9",
        "colab_type": "text"
      },
      "source": [
        "In a reinforcement learning algorithm, we modelize each step $t$ as an action $a_t$ obtained from a state $s_t$, i.e. $\\{(a_{t},s_{t})_{t\\leq T}\\}$ having the Markov property. We consider a discount factor $\\gamma \\in [0,1]$ that ensures convergence. The goal is to find among all the policies $\\pi$, one that maximizes the expected reward:\n",
        "\n",
        "\\begin{equation*}\n",
        "R(\\pi)=\\sum_{t\\leq T}E_{p^{\\pi}}[\\gamma^t r(s_{t},a_{t})] \\> ,\n",
        "\\end{equation*}\n",
        "\n",
        "where: \n",
        "\\begin{equation*}p^{\\pi}(a_{0},a_{1},s_{1},...,a_{T},s_{T})=p(a_{0})\\prod_{t=1}^{T}\\pi(a_{t}|s_{t})p(s_{t+1}|s_{t},a_{t}) \\> .\n",
        "\\end{equation*}\n",
        "\n",
        "We note the $Q$-function:\n",
        "\n",
        "\\begin{equation*}Q^\\pi(s,a)=E_{p^{\\pi}}[\\sum_{t\\leq T}\\gamma^{t}r(s_{t},a_{t})|s_{0}=s,a_{0}=a] \\> .\n",
        "\\end{equation*}\n",
        "\n",
        "Thus, the optimal Q function is:\n",
        "\\begin{equation*}\n",
        "Q^*(s,a)=\\max_{\\pi}Q^\\pi(s,a) \\> .\n",
        "\\end{equation*}\n",
        "\n",
        "In this project, we will apply the deep reinforcement learning techniques to a simple game: an agent will have to learn from scratch a policy that will permit it maximizing a reward."
      ]
    },
    {
      "cell_type": "markdown",
      "metadata": {
        "id": "MvGo4XqhkAZ-",
        "colab_type": "text"
      },
      "source": [
        "## The environment, the agent and the game"
      ]
    },
    {
      "cell_type": "markdown",
      "metadata": {
        "id": "98xnpcbgkAZ_",
        "colab_type": "text"
      },
      "source": [
        "### The environment"
      ]
    },
    {
      "cell_type": "markdown",
      "metadata": {
        "id": "B62l1Y4BkAaA",
        "colab_type": "text"
      },
      "source": [
        "```Environment``` is an abstract class that represents the states, rewards, and actions to obtain the new state."
      ]
    },
    {
      "cell_type": "code",
      "metadata": {
        "id": "vCimu1o6kAaB",
        "colab_type": "code",
        "colab": {}
      },
      "source": [
        "class Environment(object):\n",
        "    def __init__(self):\n",
        "        pass\n",
        "\n",
        "    def act(self, act):\n",
        "        \"\"\"\n",
        "        One can act on the environment and obtain its reaction:\n",
        "        - the new state\n",
        "        - the reward of the new state\n",
        "        - should we continue the game?\n",
        "\n",
        "        :return: state, reward, game_over\n",
        "        \"\"\"\n",
        "        pass\n",
        "\n",
        "\n",
        "    def reset(self):\n",
        "        \"\"\"\n",
        "        Reinitialize the environment to a random state and returns\n",
        "        the original state\n",
        "\n",
        "        :return: state\n",
        "        \"\"\"\n",
        "        pass\n",
        "    \n",
        "    def draw(self):\n",
        "        \"\"\"\n",
        "        Visualize in the console or graphically the current state\n",
        "        \"\"\"\n",
        "        pass"
      ],
      "execution_count": 0,
      "outputs": []
    },
    {
      "cell_type": "markdown",
      "metadata": {
        "id": "f7qrUIMpkAaG",
        "colab_type": "text"
      },
      "source": [
        "The method ```act``` allows to act on the environment at a given state $s_t$ (stored internally), via action $a_t$. The method will return the new state $s_{t+1}$, the reward $r(s_{t},a_{t})$ and determines if $t\\leq T$ (*game_over*).\n",
        "\n",
        "The method ```reset``` simply reinitializes the environment to a random state $s_0$.\n",
        "\n",
        "The method ```draw``` displays the current state $s_t$ (this is useful to check the behavior of the Agent).\n",
        "\n",
        "We modelize $s_t$ as a tensor, while $a_t$ is an integer."
      ]
    },
    {
      "cell_type": "markdown",
      "metadata": {
        "id": "0NaxTlBqkAaH",
        "colab_type": "text"
      },
      "source": [
        "### The Agent"
      ]
    },
    {
      "cell_type": "markdown",
      "metadata": {
        "id": "J5wh6HCAkAaI",
        "colab_type": "text"
      },
      "source": [
        "The goal of the ```Agent``` is to interact with the ```Environment``` by proposing actions $a_t$ obtained from a given state $s_t$ to attempt to maximize its __reward__ $r(s_t,a_t)$. We propose the following abstract class:"
      ]
    },
    {
      "cell_type": "code",
      "metadata": {
        "id": "_ZOi2OB8kAaJ",
        "colab_type": "code",
        "colab": {}
      },
      "source": [
        "class Agent(object):\n",
        "    def __init__(self, epsilon=0.1, n_action=4):\n",
        "        self.epsilon = epsilon\n",
        "        self.n_action = n_action\n",
        "    \n",
        "    def set_epsilon(self,e):\n",
        "        self.epsilon = e\n",
        "\n",
        "    def act(self,s,train=True):\n",
        "        \"\"\" This function should return the next action to do:\n",
        "        an integer between 0 and 4 (not included) with a random exploration of epsilon\"\"\"\n",
        "        if train:\n",
        "            if np.random.rand() <= self.epsilon:\n",
        "                a = np.random.randint(0, self.n_action, size=1)[0]\n",
        "            else:\n",
        "                a = self.learned_act(s)\n",
        "        else: # in some cases, this can improve the performance.. remove it if poor performances\n",
        "            a = self.learned_act(s)\n",
        "\n",
        "        return a\n",
        "\n",
        "    def learned_act(self,s):\n",
        "        \"\"\" Act via the policy of the agent, from a given state s\n",
        "        it proposes an action a\"\"\"\n",
        "        pass\n",
        "\n",
        "    def reinforce(self, s, n_s, a, r, game_over_):\n",
        "        \"\"\" This function is the core of the learning algorithm. \n",
        "        It takes as an input the current state s_, the next state n_s_\n",
        "        the action a_ used to move from s_ to n_s_ and the reward r_.\n",
        "        \n",
        "        Its goal is to learn a policy.\n",
        "        \"\"\"\n",
        "        pass\n",
        "\n",
        "    def save(self):\n",
        "        \"\"\" This function returns basic stats if applicable: the\n",
        "        loss and/or the model\"\"\"\n",
        "        pass\n",
        "\n",
        "    def load(self):\n",
        "        \"\"\" This function allows to restore a model\"\"\"\n",
        "        pass"
      ],
      "execution_count": 0,
      "outputs": []
    },
    {
      "cell_type": "markdown",
      "metadata": {
        "id": "AOYbrtAXkAaM",
        "colab_type": "text"
      },
      "source": [
        "***\n",
        "__Question 1__:\n",
        "Explain the function act. Why is ```epsilon``` essential?"
      ]
    },
    {
      "cell_type": "markdown",
      "metadata": {
        "id": "SHbtfGkQkAaN",
        "colab_type": "text"
      },
      "source": [
        "The function act takes a random number x in [0,1] then if $x<\\varepsilon$ the agent choose a random action otherwise it select the action according to the learn policy.  \n",
        "Without epsilon the choices would ve determinitsic and thus there would be no exploration. On the contrary if epsilon is huge the agent will explore a lot and will never follow the policy that it want to learn. It is impossible to learn without exploration but it is also impossible to learn decent if we never follow the policy."
      ]
    },
    {
      "cell_type": "markdown",
      "metadata": {
        "id": "vcgkk2LCkAaO",
        "colab_type": "text"
      },
      "source": [
        "***\n",
        "### The Game"
      ]
    },
    {
      "cell_type": "markdown",
      "metadata": {
        "id": "tdez6DHZkAaP",
        "colab_type": "text"
      },
      "source": [
        "The ```Agent``` and the ```Environment``` work in an interlaced way as in the following (take some time to understand this code as it is the core of the project)\n",
        "\n",
        "```python\n",
        "\n",
        "epoch = 300\n",
        "env = Environment()\n",
        "agent = Agent()\n",
        "\n",
        "\n",
        "# Number of won games\n",
        "score = 0\n",
        "loss = 0\n",
        "\n",
        "\n",
        "for e in range(epoch):\n",
        "    # At each epoch, we restart to a fresh game and get the initial state\n",
        "    state = env.reset()\n",
        "    # This assumes that the games will end\n",
        "    game_over = False\n",
        "\n",
        "    win = 0\n",
        "    lose = 0\n",
        "    \n",
        "    while not game_over:\n",
        "        # The agent performs an action\n",
        "        action = agent.act(state)\n",
        "\n",
        "        # Apply an action to the environment, get the next state, the reward\n",
        "        # and if the games end\n",
        "        prev_state = state\n",
        "        state, reward, game_over = env.act(action)\n",
        "\n",
        "        # Update the counters\n",
        "        if reward > 0:\n",
        "            win = win + reward\n",
        "        if reward < 0:\n",
        "            lose = lose -reward\n",
        "\n",
        "        # Apply the reinforcement strategy\n",
        "        loss = agent.reinforce(prev_state, state,  action, reward, game_over)\n",
        "\n",
        "    # Save as a mp4\n",
        "    if e % 10 == 0:\n",
        "        env.draw(e)\n",
        "\n",
        "    # Update stats\n",
        "    score += win-lose\n",
        "\n",
        "    print(\"Epoch {:03d}/{:03d} | Loss {:.4f} | Win/lose count {}/{} ({})\"\n",
        "          .format(e, epoch, loss, win, lose, win-lose))\n",
        "    agent.save()\n",
        "```"
      ]
    },
    {
      "cell_type": "markdown",
      "metadata": {
        "id": "DVLBwzD6kAaQ",
        "colab_type": "text"
      },
      "source": [
        "# The game, *eat cheese*"
      ]
    },
    {
      "cell_type": "markdown",
      "metadata": {
        "id": "QL0Q6bkhkAaQ",
        "colab_type": "text"
      },
      "source": [
        "A rat runs on an island and tries to eat as much as possible. The island is subdivided into $N\\times N$ cells, in which there are cheese (+0.5) and poisonous cells (-1). The rat has a visibility of 2 cells (thus it can see $5^2$ cells). The rat is given a time $T$ to accumulate as much food as possible. It can perform 4 actions: going up, down, left, right. \n",
        "\n",
        "The goal is to code an agent to solve this task that will learn by trial and error. We propose the following environment:"
      ]
    },
    {
      "cell_type": "code",
      "metadata": {
        "id": "PZKA-UYbkAaR",
        "colab_type": "code",
        "colab": {}
      },
      "source": [
        "class Environment(object):\n",
        "    def __init__(self, grid_size=10, max_time=500, temperature=0.1):\n",
        "        grid_size = grid_size+4\n",
        "        self.grid_size = grid_size\n",
        "        self.max_time = max_time\n",
        "        self.temperature = temperature\n",
        "\n",
        "        #board on which one plays\n",
        "        self.board = np.zeros((grid_size,grid_size))\n",
        "        self.position = np.zeros((grid_size,grid_size))\n",
        "\n",
        "        # coordinate of the cat\n",
        "        self.x = 0\n",
        "        self.y = 1\n",
        "\n",
        "        # self time\n",
        "        self.t = 0\n",
        "\n",
        "        self.scale=16\n",
        "\n",
        "        self.to_draw = np.zeros((max_time+2, grid_size*self.scale, grid_size*self.scale, 3))\n",
        "\n",
        "\n",
        "    def draw(self,e):\n",
        "        skvideo.io.vwrite(str(e) + '.mp4', self.to_draw)\n",
        "\n",
        "    def get_frame(self,t):\n",
        "        b = np.zeros((self.grid_size,self.grid_size,3))+128\n",
        "        b[self.board>0,0] = 256\n",
        "        b[self.board < 0, 2] = 256\n",
        "        b[self.x,self.y,:]=256\n",
        "        b[-2:,:,:]=0\n",
        "        b[:,-2:,:]=0\n",
        "        b[:2,:,:]=0\n",
        "        b[:,:2,:]=0\n",
        "        \n",
        "        b =  cv2.resize(b, None, fx=self.scale, fy=self.scale, interpolation=cv2.INTER_NEAREST)\n",
        "\n",
        "        self.to_draw[t,:,:,:]=b\n",
        "\n",
        "\n",
        "    def act(self, action):\n",
        "        \"\"\"This function returns the new state, reward and decides if the\n",
        "        game ends.\"\"\"\n",
        "\n",
        "        self.get_frame(int(self.t))\n",
        "\n",
        "        self.position = np.zeros((self.grid_size, self.grid_size))\n",
        "\n",
        "        self.position[0:2,:]= -1  #Out of the Island\n",
        "        self.position[:,0:2] = -1\n",
        "        self.position[-2:, :] = -1\n",
        "        self.position[-2:, :] = -1\n",
        "\n",
        "        self.position[self.x, self.y] = 1  #position of the mouse\n",
        "        if action == 0:\n",
        "            if self.x == self.grid_size-3:\n",
        "                self.x = self.x-1\n",
        "            else:\n",
        "                self.x = self.x + 1\n",
        "        elif action == 1:\n",
        "            if self.x == 2:\n",
        "                self.x = self.x+1\n",
        "            else:\n",
        "                self.x = self.x-1\n",
        "        elif action == 2:\n",
        "            if self.y == self.grid_size - 3:\n",
        "                self.y = self.y - 1\n",
        "            else:\n",
        "                self.y = self.y + 1\n",
        "        elif action == 3:\n",
        "            if self.y == 2:\n",
        "                self.y = self.y + 1\n",
        "            else:\n",
        "                self.y = self.y - 1\n",
        "        else:\n",
        "            RuntimeError('Error: action not recognized')\n",
        "\n",
        "        self.t = self.t + 1\n",
        "        reward = self.board[self.x, self.y] # The reward is the value of the board cell on which is the mouse\n",
        "        self.board[self.x, self.y] = 0 # The mouse has eaten what was previously on the cell.\n",
        "        game_over = self.t > self.max_time\n",
        "        state = np.concatenate((self.board.reshape(self.grid_size, self.grid_size,1),\n",
        "                        self.position.reshape(self.grid_size, self.grid_size,1)),axis=2)\n",
        "        state = state[self.x-2:self.x+3,self.y-2:self.y+3,:]\n",
        "\n",
        "        return state, reward, game_over # return the new state ,the reward and a boolean for the end of the game\n",
        "\n",
        "    def reset(self):\n",
        "        \"\"\"This function resets the game and returns the initial state\"\"\"\n",
        "\n",
        "        self.x = np.random.randint(3, self.grid_size-3, size=1)[0]\n",
        "        self.y = np.random.randint(3, self.grid_size-3, size=1)[0]\n",
        "\n",
        "\n",
        "        bonus = 0.5*np.random.binomial(1,self.temperature,size=self.grid_size**2) # put cheese\n",
        "        bonus = bonus.reshape(self.grid_size,self.grid_size)\n",
        "\n",
        "        malus = -1.0*np.random.binomial(1,self.temperature,size=self.grid_size**2)#put poison\n",
        "        malus = malus.reshape(self.grid_size, self.grid_size)\n",
        "\n",
        "        self.to_draw = np.zeros((self.max_time+2, self.grid_size*self.scale, self.grid_size*self.scale, 3))\n",
        "\n",
        "\n",
        "        malus[bonus>0]=0\n",
        "\n",
        "        self.board = bonus + malus\n",
        "\n",
        "        self.position = np.zeros((self.grid_size, self.grid_size))\n",
        "        self.position[0:2,:]= -1\n",
        "        self.position[:,0:2] = -1\n",
        "        self.position[-2:, :] = -1\n",
        "        self.position[-2:, :] = -1\n",
        "        self.board[self.x,self.y] = 0\n",
        "        self.t = 0\n",
        "\n",
        "        state = np.concatenate((\n",
        "                               self.board.reshape(self.grid_size, self.grid_size,1),\n",
        "                        self.position.reshape(self.grid_size, self.grid_size,1)),axis=2)\n",
        "\n",
        "        state = state[self.x - 2:self.x + 3, self.y - 2:self.y + 3, :]\n",
        "        return state"
      ],
      "execution_count": 0,
      "outputs": []
    },
    {
      "cell_type": "markdown",
      "metadata": {
        "id": "7H4mFiIfkAaU",
        "colab_type": "text"
      },
      "source": [
        "The following elements are important because they correspond to the hyper parameters for this project:"
      ]
    },
    {
      "cell_type": "code",
      "metadata": {
        "id": "kM4uN_3MkAaV",
        "colab_type": "code",
        "colab": {}
      },
      "source": [
        "# parameters\n",
        "size = 13\n",
        "T=200\n",
        "temperature=0.3\n",
        "epochs_train=50 # set small when debugging\n",
        "epochs_test=20 # set small when debugging\n",
        "\n",
        "# display videos\n",
        "def display_videos(name):\n",
        "    video = io.open(name, 'r+b').read()\n",
        "    encoded = base64.b64encode(video)\n",
        "    return '''<video alt=\"test\" controls>\n",
        "                <source src=\"data:video/mp4;base64,{0}\" type=\"video/mp4\" />\n",
        "             </video>'''.format(encoded.decode('ascii'))"
      ],
      "execution_count": 0,
      "outputs": []
    },
    {
      "cell_type": "markdown",
      "metadata": {
        "id": "dcds4SaUkAaZ",
        "colab_type": "text"
      },
      "source": [
        "__Question 2__ Explain the use of the arrays ```position``` and ```board```."
      ]
    },
    {
      "cell_type": "markdown",
      "metadata": {
        "id": "9cIIgGn_kAaZ",
        "colab_type": "text"
      },
      "source": [
        "The position array is (N+4)x(N+4) in order to handle the vision of the mouse. It has 1 for the current position of the mouse, -1 for out of the map cells, and 0 everywhere else. \n",
        "\n",
        "The board array has 0.5 for food -1 for poison and 0 otherwise. When the mouse is on a cell it is updated to remove what was on this cell."
      ]
    },
    {
      "cell_type": "markdown",
      "metadata": {
        "id": "Y1vWSZAWkAaa",
        "colab_type": "text"
      },
      "source": [
        "## Random Agent"
      ]
    },
    {
      "cell_type": "markdown",
      "metadata": {
        "id": "g_O6v5s6kAab",
        "colab_type": "text"
      },
      "source": [
        "***\n",
        "__Question 3__ Implement a random Agent (only ```learned_act``` needs to be implemented):"
      ]
    },
    {
      "cell_type": "code",
      "metadata": {
        "id": "v8Y0Hn_1kAac",
        "colab_type": "code",
        "colab": {}
      },
      "source": [
        "class RandomAgent(Agent):\n",
        "    def __init__(self):\n",
        "        super(RandomAgent, self).__init__()\n",
        "        pass\n",
        "\n",
        "    def learned_act(self, s):\n",
        "        return np.random.randint(self.n_action)"
      ],
      "execution_count": 0,
      "outputs": []
    },
    {
      "cell_type": "markdown",
      "metadata": {
        "id": "eAtQmiL8kAaf",
        "colab_type": "text"
      },
      "source": [
        "***\n",
        "***\n",
        "__Question 4__ Visualize the game moves. You need to fill in the following function for the evaluation:"
      ]
    },
    {
      "cell_type": "code",
      "metadata": {
        "id": "kRESib1-kAag",
        "colab_type": "code",
        "colab": {}
      },
      "source": [
        "def test(agent,env,epochs,prefix=''):\n",
        "    # Number of won games\n",
        "    score = 0\n",
        "        \n",
        "    for e in range(epochs):\n",
        "        \n",
        "        ##### FILL IN HERE\n",
        "        \n",
        "        state = env.reset()\n",
        "        game_over = 0\n",
        "        win,lose = 0,0\n",
        "        while game_over == 0 :\n",
        "            prev_state =state\n",
        "            action_number = agent.act(state)\n",
        "            state, reward, game_over =env.act(action_number)\n",
        "            \n",
        "            if reward > 0:\n",
        "              win = win + reward\n",
        "            if reward < 0:\n",
        "              lose = lose -reward\n",
        "        \n",
        "        # Save as a mp4\n",
        "        env.draw(prefix+str(e))\n",
        "\n",
        "        # Update stats\n",
        "        score = score + win-lose\n",
        "\n",
        "        print(\"Win/lose count {}/{}. Average score ({})\"\n",
        "              .format(win, lose, score/(1+e)))\n",
        "    print('Final score: '+str(score/epochs))"
      ],
      "execution_count": 0,
      "outputs": []
    },
    {
      "cell_type": "code",
      "metadata": {
        "id": "ZTmnV4vCkAak",
        "colab_type": "code",
        "outputId": "90ed8db4-8baa-435a-830f-6167ca599aac",
        "colab": {
          "base_uri": "https://localhost:8080/",
          "height": 650
        }
      },
      "source": [
        "# Initialize the game\n",
        "env = Environment(grid_size=size, max_time=T,temperature=temperature)\n",
        "\n",
        "# Initialize the agent!\n",
        "agent = RandomAgent()\n",
        "\n",
        "test(agent,env,epochs_test,prefix='random')\n",
        "HTML(display_videos('random0.mp4'))"
      ],
      "execution_count": 0,
      "outputs": [
        {
          "output_type": "stream",
          "text": [
            "Win/lose count 10.5/4.0. Average score (6.5)\n",
            "Win/lose count 10.5/14.0. Average score (1.5)\n",
            "Win/lose count 4.0/4.0. Average score (1.0)\n",
            "Win/lose count 5.5/7.0. Average score (0.375)\n",
            "Win/lose count 4.5/15.0. Average score (-1.8)\n",
            "Win/lose count 9.0/11.0. Average score (-1.8333333333333333)\n",
            "Win/lose count 9.0/13.0. Average score (-2.142857142857143)\n",
            "Win/lose count 8.0/21.0. Average score (-3.5)\n",
            "Win/lose count 7.5/19.0. Average score (-4.388888888888889)\n",
            "Win/lose count 8.5/13.0. Average score (-4.4)\n",
            "Win/lose count 13.5/14.0. Average score (-4.045454545454546)\n",
            "Win/lose count 15.0/22.0. Average score (-4.291666666666667)\n",
            "Win/lose count 11.0/26.0. Average score (-5.115384615384615)\n",
            "Win/lose count 14.0/14.0. Average score (-4.75)\n",
            "Win/lose count 5.5/6.0. Average score (-4.466666666666667)\n",
            "Win/lose count 10.5/14.0. Average score (-4.40625)\n",
            "Win/lose count 9.0/16.0. Average score (-4.5588235294117645)\n",
            "Win/lose count 4.0/8.0. Average score (-4.527777777777778)\n",
            "Win/lose count 9.5/25.0. Average score (-5.105263157894737)\n",
            "Win/lose count 14.5/15.0. Average score (-4.875)\n",
            "Final score: -4.875\n"
          ],
          "name": "stdout"
        },
        {
          "output_type": "execute_result",
          "data": {
            "text/html": [
              "<video alt=\"test\" controls>\n",
              "                <source src=\"data:video/mp4;base64,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\" type=\"video/mp4\" />\n",
              "             </video>"
            ],
            "text/plain": [
              "<IPython.core.display.HTML object>"
            ]
          },
          "metadata": {
            "tags": []
          },
          "execution_count": 10
        }
      ]
    },
    {
      "cell_type": "markdown",
      "metadata": {
        "id": "cPGGUG9GkAan",
        "colab_type": "text"
      },
      "source": [
        "***\n",
        "## DQN"
      ]
    },
    {
      "cell_type": "markdown",
      "metadata": {
        "id": "EpaJ2eB5kAao",
        "colab_type": "text"
      },
      "source": [
        "Let us assume here that $T=\\infty$.\n",
        "\n",
        "***\n",
        "__Question 5__ Let $\\pi$ be a policy, show that:\n",
        "\n",
        "\\begin{equation*}\n",
        "Q^{\\pi}(s,a)=E_{(s',a')\\sim p(.|s,a)}[r(s,a)+\\gamma Q^{\\pi}(s',a')]\n",
        "\\end{equation*}\n",
        "\n",
        "Then, show that for the optimal policy $\\pi^*$ (we assume its existence), the following holds: \n",
        "\n",
        "\\begin{equation*}\n",
        "Q^{*}(s,a)=E_{s'\\sim \\pi^*(.|s,a)}[r(s,a)+\\gamma\\max_{a'}Q^{*}(s',a')].\n",
        "\\end{equation*}\n",
        "Finally, deduce that a plausible objective is:\n",
        "\n",
        "\\begin{equation*}\n",
        "\\mathcal{L}(\\theta)=E_{s' \\sim \\pi^*(.|s,a)}\\Vert r+\\gamma\\max\\max_{a'}Q(s',a',\\theta)-Q(s,a,\\theta)\\Vert^{2}.\n",
        "\\end{equation*}\n",
        "\n",
        "\n"
      ]
    },
    {
      "cell_type": "markdown",
      "metadata": {
        "id": "HigXceREkAap",
        "colab_type": "text"
      },
      "source": [
        "With the definition :\n",
        "\\begin{equation*}\n",
        "Q^{\\pi}(s,a) = E_{p^{\\pi}}[\\sum_{t\\leq T}\\gamma^{t}r(s_{t},a_{t})|s_{0}=s,a_{0}=a] \\>\n",
        "\\end{equation*}\n",
        "We remove the first term of the sum :\n",
        "\\begin{equation*}\n",
        "Q^{\\pi}(s,a) = E_{p^{\\pi}}[ r(s_0,a_0) + \\gamma\\sum_{1\\leq t\\leq T}\\gamma^{t-1}r(s_{t},a_{t})|s_{0}=s,a_{0}=a] \\>\n",
        "\\end{equation*}\n",
        "The first term does not depends on the policy $\\pi$ thus :\n",
        "\\begin{equation*}\n",
        "Q^{\\pi}(s,a) = E_{(s',a')\\sim p(.|s,a)} \\left( r(s,a) +\\gamma E_{p^{\\pi}}[ \\sum_{1\\leq t\\leq T}\\gamma^{t-1}r(s_{t},a_{t})|s_{0}=s,a_{0}=a] \\>\\right)\n",
        "\\end{equation*}\n",
        "Which is exactly what we want :\n",
        "\n",
        "\\begin{equation*}\n",
        "Q^{\\pi}(s,a)=E_{(s',a')\\sim p(.|s,a)}[r(s,a)+\\gamma Q^{\\pi}(s',a')]\n",
        "\\end{equation*}\n",
        "\n",
        "\n"
      ]
    },
    {
      "cell_type": "markdown",
      "metadata": {
        "id": "_rpzxmdqsJZ_",
        "colab_type": "text"
      },
      "source": [
        "Since the optimal policy is deterministic we can write : \n",
        "\\begin{equation*}\n",
        "Q^{\\pi^*}(s,a)=E_{s'\\sim \\pi^*(.|s,a)}[r(s,a)+\\gamma Q^{\\pi^*}(s',a')]\n",
        "\\end{equation*}\n",
        "\n",
        "Futhermore we know that the optimal policy will maximize the expected reward, thus :\n",
        "\\begin{equation*}\n",
        "Q^{\\pi^*}(s,a)=E_{s'\\sim \\pi^*(.|s,a)}[r(s,a)+\\gamma .max_{a'}Q^{\\pi^*}(s',a')]\n",
        "\\end{equation*}\n"
      ]
    },
    {
      "cell_type": "markdown",
      "metadata": {
        "id": "Jm285XiUtDfj",
        "colab_type": "text"
      },
      "source": [
        "By changing side the $Q^*(s,a)$ we have :\n",
        "\\begin{equation*}\n",
        "E_{s'\\sim \\pi^*(.|s,a)}[r(s,a)+\\gamma .max_{a'}Q^{\\pi^*}(s',a')- Q^{\\pi^*}(s,a)] = 0\n",
        "\\end{equation*}\n",
        "\n",
        "Thus we want to minimise the expectation of $r(s,a)+\\gamma .max_{a'}Q^{\\pi^*}(s',a')- Q^{\\pi^*}(s,a) $Which leads to the objective :\n",
        "\n",
        "\\begin{equation*}\n",
        "\\mathcal{L}(\\theta)=E_{s' \\sim \\pi^*(.|s,a)}\\Vert r+\\gamma\\max\\max_{a'}Q(s',a',\\theta)-Q(s,a,\\theta)\\Vert^{2}.\n",
        "\\end{equation*}\n"
      ]
    },
    {
      "cell_type": "markdown",
      "metadata": {
        "id": "O_6rRf4kkAap",
        "colab_type": "text"
      },
      "source": [
        "***\n",
        "The DQN-learning algorithm relies on these derivations to train the parameters $\\theta$ of a Deep Neural Network:\n",
        "\n",
        "1. At the state $s_t$, select the action $a_t$ with best reward using $Q_t$ and store the results;\n",
        "\n",
        "2. Obtain the new state $s_{t+1}$ from the environment $p$;\n",
        "\n",
        "3. Store $(s_t,a_t,s_{t+1})$;\n",
        "\n",
        "4. Obtain $Q_{t+1}$ by minimizing  $\\mathcal{L}$ from a recovered batch from the previously stored results.\n",
        "\n",
        "***\n",
        "__Question 6__ Implement the class ```Memory``` that stores moves (in a replay buffer) via ```remember``` and provides a ```random_access``` to these. Specify a maximum memory size to avoid side effects. You can for example use a ```list()``` and set by default ```max_memory=100```."
      ]
    },
    {
      "cell_type": "code",
      "metadata": {
        "id": "LIRR0wxXkAaq",
        "colab_type": "code",
        "colab": {}
      },
      "source": [
        "class Memory(object):\n",
        "    def __init__(self, max_memory=100):\n",
        "        self.max_memory = max_memory\n",
        "        self.memory = list()\n",
        "\n",
        "    def remember(self, m):\n",
        "        if len(self.memory) == self.max_memory : #makes sure the memory is never out of bound \n",
        "          self.memory = self.memory[1:]\n",
        "        self.memory.append(m)\n",
        "        \n",
        "\n",
        "    def random_access(self):\n",
        "      return random.choice(self.memory)"
      ],
      "execution_count": 0,
      "outputs": []
    },
    {
      "cell_type": "markdown",
      "metadata": {
        "id": "J5ieOqFAkAau",
        "colab_type": "text"
      },
      "source": [
        "***\n",
        "The pipeline we will use for training is given below:"
      ]
    },
    {
      "cell_type": "code",
      "metadata": {
        "id": "BaDJIWgBkAav",
        "colab_type": "code",
        "colab": {}
      },
      "source": [
        "def train(agent,env,epoch,prefix=''):\n",
        "    # Number of won games\n",
        "    score = 0\n",
        "    loss = 0\n",
        "\n",
        "    for e in range(epoch):\n",
        "        # At each epoch, we restart to a fresh game and get the initial state\n",
        "        state = env.reset()\n",
        "        # This assumes that the games will terminate\n",
        "        game_over = False\n",
        "\n",
        "        win = 0\n",
        "        lose = 0\n",
        "\n",
        "        while not game_over:\n",
        "            # The agent performs an action\n",
        "            action = agent.act(state)\n",
        "\n",
        "            # Apply an action to the environment, get the next state, the reward\n",
        "            # and if the games end\n",
        "            prev_state = state\n",
        "            state, reward, game_over = env.act(action)\n",
        "\n",
        "            # Update the counters\n",
        "            if reward > 0:\n",
        "                win = win + reward\n",
        "            if reward < 0:\n",
        "                lose = lose -reward\n",
        "\n",
        "            # Apply the reinforcement strategy\n",
        "            loss = agent.reinforce(prev_state, state,  action, reward, game_over)\n",
        "\n",
        "        # Save as a mp4\n",
        "        if e % 10 == 0:\n",
        "            env.draw(prefix+str(e))\n",
        "\n",
        "        # Update stats\n",
        "        score += win-lose\n",
        "\n",
        "        print(\"Epoch {:03d}/{:03d} | Loss {:.4f} | Win/lose count {}/{} ({})\"\n",
        "              .format(e, epoch, loss, win, lose, win-lose))\n",
        "        agent.save(name_weights=prefix+'model.h5',name_model=prefix+'model.json')"
      ],
      "execution_count": 0,
      "outputs": []
    },
    {
      "cell_type": "markdown",
      "metadata": {
        "id": "wt3nuu3ckAay",
        "colab_type": "text"
      },
      "source": [
        "***\n",
        "__Question 7__ Implement the DQN training algorithm using a cascade of fully connected layers. You can use different learning rate, batch size or memory size parameters. In particular, the loss might oscillate while the player will start to win the games. You have to find a good criterium."
      ]
    },
    {
      "cell_type": "code",
      "metadata": {
        "id": "rvBn4TgKkAaz",
        "colab_type": "code",
        "colab": {}
      },
      "source": [
        "class DQN(Agent):\n",
        "    def __init__(self, grid_size,  epsilon = 0.1, memory_size=100, batch_size = 16,n_state=2):\n",
        "        super(DQN, self).__init__(epsilon = epsilon)\n",
        "\n",
        "        # Discount for Q learning\n",
        "        self.discount = 0.99\n",
        "        \n",
        "        self.grid_size = grid_size\n",
        "        \n",
        "        # number of state\n",
        "        self.n_state = n_state\n",
        "\n",
        "        # Memory\n",
        "        self.memory = Memory(memory_size)\n",
        "        \n",
        "        # Batch size when learning\n",
        "        self.batch_size = batch_size\n",
        "\n",
        "    def learned_act(self, s):\n",
        "        s_b = s[None]\n",
        "        prediction = self.model.predict(s_b).argmax()\n",
        "        return(prediction)\n",
        "\n",
        "    def reinforce(self, s_, n_s_, a_, r_, game_over_):\n",
        "        # Two steps: first memorize the states, second learn from the pool\n",
        "\n",
        "        self.memory.remember([s_, n_s_, a_, r_, game_over_])\n",
        "        \n",
        "        input_states = np.zeros((self.batch_size, 5, 5, self.n_state))\n",
        "        \n",
        "        steps = [self.memory.random_access() for i in range(self.batch_size)]\n",
        "        \n",
        "        #storing init states\n",
        "        input_states = np.array([s[0] for s in steps])\n",
        "        \n",
        "        #storing next_states, played actions, rewards, and booleans game_over \n",
        "        next_state = np.array([s[1] for s in steps])\n",
        "        tmp = np.array([s[2:] for s in steps])\n",
        "        played_action = tmp[:,0].astype(int)\n",
        "        reward = tmp[:,1]\n",
        "        game_over = tmp[:,2]\n",
        "        \n",
        "        #computing current assessments of q(init state,action) for any possible action from init state\n",
        "        target_q = self.model.predict(input_states)\n",
        "        \n",
        "        #reassessing q(init state,action) for the specific action played from init state\n",
        "        q_next_state = self.model.predict(next_state) #q-values in the next state for all possible actions\n",
        "        target_q_played_action = reward  + (1-game_over) * self.discount * np.max(q_next_state,axis=1) \n",
        "        for i in range(self.batch_size):\n",
        "            target_q[i, played_action[i]] = target_q_played_action[i]\n",
        "        \n",
        "        #clipping the target to avoid exploiding gradients.\n",
        "        target_q = np.clip(target_q, -3, 3)\n",
        "\n",
        "        l = self.model.train_on_batch(input_states, target_q)\n",
        "\n",
        "        return l\n",
        "\n",
        "    def save(self,name_weights='model.h5',name_model='model.json'):\n",
        "        self.model.save_weights(name_weights, overwrite=True)\n",
        "        with open(name_model, \"w\") as outfile:\n",
        "            json.dump(self.model.to_json(), outfile)\n",
        "            \n",
        "    def load(self,name_weights='model.h5',name_model='model.json'):\n",
        "        with open(name_model, \"r\") as jfile:\n",
        "            model = model_from_json(json.load(jfile))\n",
        "        model.load_weights(name_weights)\n",
        "        model.compile(\"sgd\", \"mse\")\n",
        "        self.model = model\n",
        "\n",
        "            \n",
        "class DQN_FC(DQN):\n",
        "    def __init__(self, *args, lr=0.1,**kwargs):\n",
        "        super(DQN_FC, self).__init__( *args,**kwargs)\n",
        "        model = Sequential()\n",
        "        model.add(Flatten(input_shape=(5, 5, self.n_state)))\n",
        "        model.add(Dense(32, activation=\"relu\"))\n",
        "        model.add(Dense(16, activation=\"relu\"))\n",
        "        model.add(Dense(4, activation=None))\n",
        "        # NN Model        \n",
        "        model.compile(sgd(lr=lr, decay=1e-4, momentum=0.0), \"mse\")\n",
        "        self.model = model\n",
        "        "
      ],
      "execution_count": 0,
      "outputs": []
    },
    {
      "cell_type": "code",
      "metadata": {
        "id": "XgLnwi8hYjwA",
        "colab_type": "code",
        "colab": {}
      },
      "source": [
        ""
      ],
      "execution_count": 0,
      "outputs": []
    },
    {
      "cell_type": "code",
      "metadata": {
        "id": "WMjEossbkAa2",
        "colab_type": "code",
        "outputId": "c54d68ba-1865-4516-ef8d-b837d5c60ca8",
        "colab": {
          "base_uri": "https://localhost:8080/",
          "height": 1000
        }
      },
      "source": [
        "env = Environment(grid_size=size, max_time=T, temperature=0.3)\n",
        "agent = DQN_FC(size, lr=.1, epsilon = 0.1, memory_size=2000, batch_size = 32)\n",
        "train(agent, env, 200, prefix='fc_train')\n",
        "HTML(display_videos('fc_train10.mp4'))"
      ],
      "execution_count": 0,
      "outputs": [
        {
          "output_type": "stream",
          "text": [
            "Epoch 000/200 | Loss 0.0077 | Win/lose count 1.0/2.0 (-1.0)\n",
            "Epoch 001/200 | Loss 0.0135 | Win/lose count 3.5/3.0 (0.5)\n",
            "Epoch 002/200 | Loss 0.0073 | Win/lose count 5.5/3.0 (2.5)\n",
            "Epoch 003/200 | Loss 0.0049 | Win/lose count 2.0/2.0 (0.0)\n",
            "Epoch 004/200 | Loss 0.0092 | Win/lose count 6.0/5.0 (1.0)\n",
            "Epoch 005/200 | Loss 0.0051 | Win/lose count 2.0/8.0 (-6.0)\n",
            "Epoch 006/200 | Loss 0.0055 | Win/lose count 4.0/3.0 (1.0)\n",
            "Epoch 007/200 | Loss 0.0078 | Win/lose count 1.0/3.0 (-2.0)\n",
            "Epoch 008/200 | Loss 0.0089 | Win/lose count 2.0/5.0 (-3.0)\n",
            "Epoch 009/200 | Loss 0.0193 | Win/lose count 2.0/1.0 (1.0)\n",
            "Epoch 010/200 | Loss 0.0029 | Win/lose count 3.5/2.0 (1.5)\n",
            "Epoch 011/200 | Loss 0.0032 | Win/lose count 6.0/5.0 (1.0)\n",
            "Epoch 012/200 | Loss 0.0045 | Win/lose count 4.0/2.0 (2.0)\n",
            "Epoch 013/200 | Loss 0.0282 | Win/lose count 4.5/3.0 (1.5)\n",
            "Epoch 014/200 | Loss 0.0114 | Win/lose count 3.0/2.0 (1.0)\n",
            "Epoch 015/200 | Loss 0.0023 | Win/lose count 6.5/1.0 (5.5)\n",
            "Epoch 016/200 | Loss 0.0079 | Win/lose count 4.5/2.0 (2.5)\n",
            "Epoch 017/200 | Loss 0.0040 | Win/lose count 1.0/2.0 (-1.0)\n",
            "Epoch 018/200 | Loss 0.0120 | Win/lose count 3.5/5.0 (-1.5)\n",
            "Epoch 019/200 | Loss 0.0057 | Win/lose count 5.5/7.0 (-1.5)\n",
            "Epoch 020/200 | Loss 0.0040 | Win/lose count 2.5/0 (2.5)\n",
            "Epoch 021/200 | Loss 0.0027 | Win/lose count 5.0/6.0 (-1.0)\n",
            "Epoch 022/200 | Loss 0.0058 | Win/lose count 2.0/4.0 (-2.0)\n",
            "Epoch 023/200 | Loss 0.0268 | Win/lose count 5.5/1.0 (4.5)\n",
            "Epoch 024/200 | Loss 0.0039 | Win/lose count 6.5/1.0 (5.5)\n",
            "Epoch 025/200 | Loss 0.0104 | Win/lose count 2.5/2.0 (0.5)\n",
            "Epoch 026/200 | Loss 0.0035 | Win/lose count 4.5/5.0 (-0.5)\n",
            "Epoch 027/200 | Loss 0.0302 | Win/lose count 2.5/1.0 (1.5)\n",
            "Epoch 028/200 | Loss 0.0047 | Win/lose count 3.0/2.0 (1.0)\n",
            "Epoch 029/200 | Loss 0.0077 | Win/lose count 6.0/2.0 (4.0)\n",
            "Epoch 030/200 | Loss 0.0422 | Win/lose count 7.5/6.0 (1.5)\n",
            "Epoch 031/200 | Loss 0.0032 | Win/lose count 3.5/3.0 (0.5)\n",
            "Epoch 032/200 | Loss 0.0381 | Win/lose count 5.5/3.0 (2.5)\n",
            "Epoch 033/200 | Loss 0.0024 | Win/lose count 5.5/4.0 (1.5)\n",
            "Epoch 034/200 | Loss 0.0035 | Win/lose count 2.5/0 (2.5)\n",
            "Epoch 035/200 | Loss 0.0052 | Win/lose count 8.0/2.0 (6.0)\n",
            "Epoch 036/200 | Loss 0.0092 | Win/lose count 0.5/1.0 (-0.5)\n",
            "Epoch 037/200 | Loss 0.0036 | Win/lose count 4.0/6.0 (-2.0)\n",
            "Epoch 038/200 | Loss 0.0030 | Win/lose count 2.5/2.0 (0.5)\n",
            "Epoch 039/200 | Loss 0.0502 | Win/lose count 4.5/1.0 (3.5)\n",
            "Epoch 040/200 | Loss 0.0043 | Win/lose count 8.0/5.0 (3.0)\n",
            "Epoch 041/200 | Loss 0.0048 | Win/lose count 3.0/1.0 (2.0)\n",
            "Epoch 042/200 | Loss 0.0037 | Win/lose count 3.0/2.0 (1.0)\n",
            "Epoch 043/200 | Loss 0.0103 | Win/lose count 6.0/7.0 (-1.0)\n",
            "Epoch 044/200 | Loss 0.0049 | Win/lose count 11.0/2.0 (9.0)\n",
            "Epoch 045/200 | Loss 0.0067 | Win/lose count 10.0/2.0 (8.0)\n",
            "Epoch 046/200 | Loss 0.0488 | Win/lose count 5.5/1.0 (4.5)\n",
            "Epoch 047/200 | Loss 0.0106 | Win/lose count 7.5/5.0 (2.5)\n",
            "Epoch 048/200 | Loss 0.0034 | Win/lose count 4.5/3.0 (1.5)\n",
            "Epoch 049/200 | Loss 0.0110 | Win/lose count 12.5/3.0 (9.5)\n",
            "Epoch 050/200 | Loss 0.0028 | Win/lose count 6.5/3.0 (3.5)\n",
            "Epoch 051/200 | Loss 0.0487 | Win/lose count 11.0/0 (11.0)\n",
            "Epoch 052/200 | Loss 0.0029 | Win/lose count 9.5/2.0 (7.5)\n",
            "Epoch 053/200 | Loss 0.0054 | Win/lose count 3.5/7.0 (-3.5)\n",
            "Epoch 054/200 | Loss 0.0086 | Win/lose count 8.0/2.0 (6.0)\n",
            "Epoch 055/200 | Loss 0.0478 | Win/lose count 13.5/4.0 (9.5)\n",
            "Epoch 056/200 | Loss 0.0050 | Win/lose count 14.5/3.0 (11.5)\n",
            "Epoch 057/200 | Loss 0.0058 | Win/lose count 8.0/5.0 (3.0)\n",
            "Epoch 058/200 | Loss 0.0073 | Win/lose count 8.0/1.0 (7.0)\n",
            "Epoch 059/200 | Loss 0.0079 | Win/lose count 16.0/4.0 (12.0)\n",
            "Epoch 060/200 | Loss 0.0081 | Win/lose count 8.5/6.0 (2.5)\n",
            "Epoch 061/200 | Loss 0.0030 | Win/lose count 9.5/2.0 (7.5)\n",
            "Epoch 062/200 | Loss 0.0514 | Win/lose count 6.0/2.0 (4.0)\n",
            "Epoch 063/200 | Loss 0.0066 | Win/lose count 14.0/4.0 (10.0)\n",
            "Epoch 064/200 | Loss 0.0946 | Win/lose count 12.0/2.0 (10.0)\n",
            "Epoch 065/200 | Loss 0.0054 | Win/lose count 9.0/5.0 (4.0)\n",
            "Epoch 066/200 | Loss 0.0065 | Win/lose count 9.0/1.0 (8.0)\n",
            "Epoch 067/200 | Loss 0.0063 | Win/lose count 10.0/0 (10.0)\n",
            "Epoch 068/200 | Loss 0.0078 | Win/lose count 9.0/2.0 (7.0)\n",
            "Epoch 069/200 | Loss 0.0056 | Win/lose count 13.0/3.0 (10.0)\n",
            "Epoch 070/200 | Loss 0.0057 | Win/lose count 4.5/2.0 (2.5)\n",
            "Epoch 071/200 | Loss 0.0034 | Win/lose count 10.5/4.0 (6.5)\n",
            "Epoch 072/200 | Loss 0.0055 | Win/lose count 7.0/0 (7.0)\n",
            "Epoch 073/200 | Loss 0.0046 | Win/lose count 13.5/1.0 (12.5)\n",
            "Epoch 074/200 | Loss 0.0017 | Win/lose count 6.0/2.0 (4.0)\n",
            "Epoch 075/200 | Loss 0.0116 | Win/lose count 13.5/4.0 (9.5)\n",
            "Epoch 076/200 | Loss 0.0028 | Win/lose count 8.0/0 (8.0)\n",
            "Epoch 077/200 | Loss 0.0035 | Win/lose count 13.0/0 (13.0)\n",
            "Epoch 078/200 | Loss 0.0033 | Win/lose count 15.5/2.0 (13.5)\n",
            "Epoch 079/200 | Loss 0.0019 | Win/lose count 15.0/6.0 (9.0)\n",
            "Epoch 080/200 | Loss 0.0046 | Win/lose count 3.5/0 (3.5)\n",
            "Epoch 081/200 | Loss 0.0049 | Win/lose count 21.0/3.0 (18.0)\n",
            "Epoch 082/200 | Loss 0.0021 | Win/lose count 9.0/3.0 (6.0)\n",
            "Epoch 083/200 | Loss 0.0045 | Win/lose count 10.5/1.0 (9.5)\n",
            "Epoch 084/200 | Loss 0.0050 | Win/lose count 5.5/1.0 (4.5)\n",
            "Epoch 085/200 | Loss 0.0063 | Win/lose count 9.5/1.0 (8.5)\n",
            "Epoch 086/200 | Loss 0.0102 | Win/lose count 7.0/4.0 (3.0)\n",
            "Epoch 087/200 | Loss 0.0419 | Win/lose count 12.0/3.0 (9.0)\n",
            "Epoch 088/200 | Loss 0.0038 | Win/lose count 5.5/1.0 (4.5)\n",
            "Epoch 089/200 | Loss 0.0074 | Win/lose count 7.0/1.0 (6.0)\n",
            "Epoch 090/200 | Loss 0.0018 | Win/lose count 3.5/3.0 (0.5)\n",
            "Epoch 091/200 | Loss 0.0042 | Win/lose count 4.5/1.0 (3.5)\n",
            "Epoch 092/200 | Loss 0.0021 | Win/lose count 19.5/3.0 (16.5)\n",
            "Epoch 093/200 | Loss 0.0027 | Win/lose count 7.0/3.0 (4.0)\n",
            "Epoch 094/200 | Loss 0.0025 | Win/lose count 19.5/0 (19.5)\n",
            "Epoch 095/200 | Loss 0.0035 | Win/lose count 12.0/3.0 (9.0)\n",
            "Epoch 096/200 | Loss 0.0044 | Win/lose count 10.5/2.0 (8.5)\n",
            "Epoch 097/200 | Loss 0.0082 | Win/lose count 18.5/3.0 (15.5)\n",
            "Epoch 098/200 | Loss 0.0024 | Win/lose count 3.0/1.0 (2.0)\n",
            "Epoch 099/200 | Loss 0.0033 | Win/lose count 7.5/1.0 (6.5)\n",
            "Epoch 100/200 | Loss 0.0556 | Win/lose count 1.5/0 (1.5)\n",
            "Epoch 101/200 | Loss 0.0035 | Win/lose count 18.5/3.0 (15.5)\n",
            "Epoch 102/200 | Loss 0.0582 | Win/lose count 13.0/1.0 (12.0)\n",
            "Epoch 103/200 | Loss 0.0037 | Win/lose count 11.5/3.0 (8.5)\n",
            "Epoch 104/200 | Loss 0.0043 | Win/lose count 9.5/1.0 (8.5)\n",
            "Epoch 105/200 | Loss 0.0053 | Win/lose count 10.5/2.0 (8.5)\n",
            "Epoch 106/200 | Loss 0.0587 | Win/lose count 8.5/3.0 (5.5)\n",
            "Epoch 107/200 | Loss 0.0026 | Win/lose count 17.5/1.0 (16.5)\n",
            "Epoch 108/200 | Loss 0.0024 | Win/lose count 4.5/3.0 (1.5)\n",
            "Epoch 109/200 | Loss 0.0047 | Win/lose count 5.5/3.0 (2.5)\n",
            "Epoch 110/200 | Loss 0.0548 | Win/lose count 15.5/1.0 (14.5)\n",
            "Epoch 111/200 | Loss 0.0038 | Win/lose count 5.5/3.0 (2.5)\n",
            "Epoch 112/200 | Loss 0.0624 | Win/lose count 5.5/0 (5.5)\n",
            "Epoch 113/200 | Loss 0.0477 | Win/lose count 11.0/4.0 (7.0)\n",
            "Epoch 114/200 | Loss 0.0456 | Win/lose count 15.5/4.0 (11.5)\n",
            "Epoch 115/200 | Loss 0.0447 | Win/lose count 13.5/2.0 (11.5)\n",
            "Epoch 116/200 | Loss 0.0018 | Win/lose count 13.0/2.0 (11.0)\n",
            "Epoch 117/200 | Loss 0.0499 | Win/lose count 15.5/2.0 (13.5)\n",
            "Epoch 118/200 | Loss 0.0058 | Win/lose count 17.0/5.0 (12.0)\n",
            "Epoch 119/200 | Loss 0.0059 | Win/lose count 6.5/1.0 (5.5)\n",
            "Epoch 120/200 | Loss 0.0031 | Win/lose count 9.5/1.0 (8.5)\n",
            "Epoch 121/200 | Loss 0.0050 | Win/lose count 2.5/1.0 (1.5)\n",
            "Epoch 122/200 | Loss 0.0578 | Win/lose count 12.5/3.0 (9.5)\n",
            "Epoch 123/200 | Loss 0.0026 | Win/lose count 15.5/3.0 (12.5)\n",
            "Epoch 124/200 | Loss 0.0034 | Win/lose count 9.5/5.0 (4.5)\n",
            "Epoch 125/200 | Loss 0.0044 | Win/lose count 7.5/2.0 (5.5)\n",
            "Epoch 126/200 | Loss 0.0035 | Win/lose count 15.0/6.0 (9.0)\n",
            "Epoch 127/200 | Loss 0.0037 | Win/lose count 6.5/1.0 (5.5)\n",
            "Epoch 128/200 | Loss 0.0040 | Win/lose count 14.0/3.0 (11.0)\n",
            "Epoch 129/200 | Loss 0.0052 | Win/lose count 16.0/2.0 (14.0)\n",
            "Epoch 130/200 | Loss 0.0565 | Win/lose count 3.5/4.0 (-0.5)\n",
            "Epoch 131/200 | Loss 0.0074 | Win/lose count 11.5/1.0 (10.5)\n",
            "Epoch 132/200 | Loss 0.0023 | Win/lose count 13.5/7.0 (6.5)\n",
            "Epoch 133/200 | Loss 0.0449 | Win/lose count 17.0/1.0 (16.0)\n",
            "Epoch 134/200 | Loss 0.0025 | Win/lose count 12.0/0 (12.0)\n",
            "Epoch 135/200 | Loss 0.0500 | Win/lose count 11.5/1.0 (10.5)\n",
            "Epoch 136/200 | Loss 0.0514 | Win/lose count 6.5/3.0 (3.5)\n",
            "Epoch 137/200 | Loss 0.0041 | Win/lose count 15.5/4.0 (11.5)\n",
            "Epoch 138/200 | Loss 0.0038 | Win/lose count 14.5/2.0 (12.5)\n",
            "Epoch 139/200 | Loss 0.0054 | Win/lose count 14.0/2.0 (12.0)\n",
            "Epoch 140/200 | Loss 0.0038 | Win/lose count 10.0/0 (10.0)\n",
            "Epoch 141/200 | Loss 0.0028 | Win/lose count 16.0/3.0 (13.0)\n",
            "Epoch 142/200 | Loss 0.0041 | Win/lose count 9.5/5.0 (4.5)\n",
            "Epoch 143/200 | Loss 0.0056 | Win/lose count 16.5/4.0 (12.5)\n",
            "Epoch 144/200 | Loss 0.0452 | Win/lose count 17.0/4.0 (13.0)\n",
            "Epoch 145/200 | Loss 0.0041 | Win/lose count 0.5/0 (0.5)\n",
            "Epoch 146/200 | Loss 0.0017 | Win/lose count 14.5/4.0 (10.5)\n",
            "Epoch 147/200 | Loss 0.0027 | Win/lose count 14.5/4.0 (10.5)\n",
            "Epoch 148/200 | Loss 0.0527 | Win/lose count 14.0/3.0 (11.0)\n",
            "Epoch 149/200 | Loss 0.0027 | Win/lose count 14.5/3.0 (11.5)\n",
            "Epoch 150/200 | Loss 0.0020 | Win/lose count 16.5/2.0 (14.5)\n",
            "Epoch 151/200 | Loss 0.0030 | Win/lose count 5.0/5.0 (0.0)\n",
            "Epoch 152/200 | Loss 0.0057 | Win/lose count 12.5/2.0 (10.5)\n",
            "Epoch 153/200 | Loss 0.0036 | Win/lose count 13.0/1.0 (12.0)\n",
            "Epoch 154/200 | Loss 0.0031 | Win/lose count 3.5/1.0 (2.5)\n",
            "Epoch 155/200 | Loss 0.0506 | Win/lose count 5.0/1.0 (4.0)\n",
            "Epoch 156/200 | Loss 0.0073 | Win/lose count 13.5/5.0 (8.5)\n",
            "Epoch 157/200 | Loss 0.0043 | Win/lose count 16.5/4.0 (12.5)\n",
            "Epoch 158/200 | Loss 0.0030 | Win/lose count 11.0/3.0 (8.0)\n",
            "Epoch 159/200 | Loss 0.0040 | Win/lose count 12.0/3.0 (9.0)\n",
            "Epoch 160/200 | Loss 0.0576 | Win/lose count 10.0/1.0 (9.0)\n",
            "Epoch 161/200 | Loss 0.0022 | Win/lose count 16.5/5.0 (11.5)\n",
            "Epoch 162/200 | Loss 0.0050 | Win/lose count 15.0/2.0 (13.0)\n",
            "Epoch 163/200 | Loss 0.0534 | Win/lose count 12.0/2.0 (10.0)\n",
            "Epoch 164/200 | Loss 0.0035 | Win/lose count 20.0/4.0 (16.0)\n",
            "Epoch 165/200 | Loss 0.0030 | Win/lose count 19.0/2.0 (17.0)\n",
            "Epoch 166/200 | Loss 0.0584 | Win/lose count 14.0/2.0 (12.0)\n",
            "Epoch 167/200 | Loss 0.0542 | Win/lose count 10.5/3.0 (7.5)\n",
            "Epoch 168/200 | Loss 0.0075 | Win/lose count 14.5/2.0 (12.5)\n",
            "Epoch 169/200 | Loss 0.0033 | Win/lose count 6.5/2.0 (4.5)\n",
            "Epoch 170/200 | Loss 0.0061 | Win/lose count 16.0/2.0 (14.0)\n",
            "Epoch 171/200 | Loss 0.0045 | Win/lose count 13.0/3.0 (10.0)\n",
            "Epoch 172/200 | Loss 0.0026 | Win/lose count 22.5/6.0 (16.5)\n",
            "Epoch 173/200 | Loss 0.0593 | Win/lose count 9.5/4.0 (5.5)\n",
            "Epoch 174/200 | Loss 0.0040 | Win/lose count 14.0/3.0 (11.0)\n",
            "Epoch 175/200 | Loss 0.0018 | Win/lose count 13.5/1.0 (12.5)\n",
            "Epoch 176/200 | Loss 0.0019 | Win/lose count 7.0/3.0 (4.0)\n",
            "Epoch 177/200 | Loss 0.0487 | Win/lose count 8.5/4.0 (4.5)\n",
            "Epoch 178/200 | Loss 0.0038 | Win/lose count 14.5/2.0 (12.5)\n",
            "Epoch 179/200 | Loss 0.0019 | Win/lose count 5.5/3.0 (2.5)\n",
            "Epoch 180/200 | Loss 0.0030 | Win/lose count 15.0/2.0 (13.0)\n",
            "Epoch 181/200 | Loss 0.0448 | Win/lose count 2.0/1.0 (1.0)\n",
            "Epoch 182/200 | Loss 0.0019 | Win/lose count 20.0/7.0 (13.0)\n",
            "Epoch 183/200 | Loss 0.0558 | Win/lose count 10.0/3.0 (7.0)\n",
            "Epoch 184/200 | Loss 0.0027 | Win/lose count 7.0/2.0 (5.0)\n",
            "Epoch 185/200 | Loss 0.0037 | Win/lose count 24.0/6.0 (18.0)\n",
            "Epoch 186/200 | Loss 0.0045 | Win/lose count 22.5/4.0 (18.5)\n",
            "Epoch 187/200 | Loss 0.0023 | Win/lose count 19.5/0 (19.5)\n",
            "Epoch 188/200 | Loss 0.0426 | Win/lose count 6.0/0 (6.0)\n",
            "Epoch 189/200 | Loss 0.0022 | Win/lose count 6.0/2.0 (4.0)\n",
            "Epoch 190/200 | Loss 0.0027 | Win/lose count 5.0/1.0 (4.0)\n",
            "Epoch 191/200 | Loss 0.0487 | Win/lose count 18.5/5.0 (13.5)\n",
            "Epoch 192/200 | Loss 0.0517 | Win/lose count 19.5/7.0 (12.5)\n",
            "Epoch 193/200 | Loss 0.0043 | Win/lose count 16.5/5.0 (11.5)\n",
            "Epoch 194/200 | Loss 0.0513 | Win/lose count 11.5/3.0 (8.5)\n",
            "Epoch 195/200 | Loss 0.0034 | Win/lose count 12.5/5.0 (7.5)\n",
            "Epoch 196/200 | Loss 0.0018 | Win/lose count 18.5/2.0 (16.5)\n",
            "Epoch 197/200 | Loss 0.0036 | Win/lose count 14.5/1.0 (13.5)\n",
            "Epoch 198/200 | Loss 0.0023 | Win/lose count 8.0/2.0 (6.0)\n",
            "Epoch 199/200 | Loss 0.0038 | Win/lose count 15.0/1.0 (14.0)\n"
          ],
          "name": "stdout"
        },
        {
          "output_type": "execute_result",
          "data": {
            "text/html": [
              "<video alt=\"test\" controls>\n",
              "                <source src=\"data:video/mp4;base64,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\" type=\"video/mp4\" />\n",
              "             </video>"
            ],
            "text/plain": [
              "<IPython.core.display.HTML object>"
            ]
          },
          "metadata": {
            "tags": []
          },
          "execution_count": 30
        }
      ]
    },
    {
      "cell_type": "markdown",
      "metadata": {
        "id": "0NQykrGfkAa5",
        "colab_type": "text"
      },
      "source": [
        "***\n",
        "***\n",
        "__Question 8__ Implement the DQN training algorithm using a CNN (for example, 2 convolutional layers and one final fully connected layer)."
      ]
    },
    {
      "cell_type": "code",
      "metadata": {
        "id": "TbiLnHfAkAa6",
        "colab_type": "code",
        "colab": {}
      },
      "source": [
        "class DQN_CNN(DQN):\n",
        "    def __init__(self, *args,lr=0.1,**kwargs):\n",
        "        super(DQN_CNN, self).__init__(*args,**kwargs)\n",
        "        \n",
        "        model = Sequential()\n",
        "        model.add(Conv2D(filters=32, kernel_size=2, activation=\"relu\", padding=\"valid\", input_shape=(5, 5, self.n_state)))\n",
        "        model.add(Conv2D(filters=16, kernel_size=2, activation=\"relu\"))\n",
        "        model.add(Flatten())\n",
        "        model.add(Dense(4, activation=None))\n",
        "        \n",
        "        model.compile(sgd(lr=lr, decay=1e-4, momentum=0.0), \"mse\")\n",
        "        self.model = model"
      ],
      "execution_count": 0,
      "outputs": []
    },
    {
      "cell_type": "code",
      "metadata": {
        "id": "xJEGBzb_kAa9",
        "colab_type": "code",
        "outputId": "0c5cc737-2703-41ec-c8ca-1c271c5585c2",
        "colab": {
          "base_uri": "https://localhost:8080/",
          "height": 1000
        }
      },
      "source": [
        "env = Environment(grid_size=size, max_time=T, temperature=0.3)\n",
        "agent = DQN_CNN(size, lr=.1, epsilon = 0.1, memory_size=2000, batch_size = 32)\n",
        "train(agent,env,200,prefix='cnn_train')\n",
        "HTML(display_videos('cnn_train10.mp4'))"
      ],
      "execution_count": 0,
      "outputs": [
        {
          "output_type": "stream",
          "text": [
            "Epoch 000/200 | Loss 0.0017 | Win/lose count 1.0/5.0 (-4.0)\n",
            "Epoch 001/200 | Loss 0.0178 | Win/lose count 1.0/3.0 (-2.0)\n",
            "Epoch 002/200 | Loss 0.0033 | Win/lose count 5.0/3.0 (2.0)\n",
            "Epoch 003/200 | Loss 0.0013 | Win/lose count 1.0/2.0 (-1.0)\n",
            "Epoch 004/200 | Loss 0.0090 | Win/lose count 6.5/3.0 (3.5)\n",
            "Epoch 005/200 | Loss 0.0007 | Win/lose count 5.5/4.0 (1.5)\n",
            "Epoch 006/200 | Loss 0.0080 | Win/lose count 2.0/3.0 (-1.0)\n",
            "Epoch 007/200 | Loss 0.0083 | Win/lose count 4.5/6.0 (-1.5)\n",
            "Epoch 008/200 | Loss 0.0053 | Win/lose count 5.5/7.0 (-1.5)\n",
            "Epoch 009/200 | Loss 0.0084 | Win/lose count 2.5/2.0 (0.5)\n",
            "Epoch 010/200 | Loss 0.0054 | Win/lose count 4.5/3.0 (1.5)\n",
            "Epoch 011/200 | Loss 0.0046 | Win/lose count 6.0/3.0 (3.0)\n",
            "Epoch 012/200 | Loss 0.0025 | Win/lose count 4.5/3.0 (1.5)\n",
            "Epoch 013/200 | Loss 0.0052 | Win/lose count 9.0/7.0 (2.0)\n",
            "Epoch 014/200 | Loss 0.0027 | Win/lose count 7.0/2.0 (5.0)\n",
            "Epoch 015/200 | Loss 0.0028 | Win/lose count 4.0/4.0 (0.0)\n",
            "Epoch 016/200 | Loss 0.0106 | Win/lose count 8.0/2.0 (6.0)\n",
            "Epoch 017/200 | Loss 0.0114 | Win/lose count 4.5/3.0 (1.5)\n",
            "Epoch 018/200 | Loss 0.0152 | Win/lose count 10.0/4.0 (6.0)\n",
            "Epoch 019/200 | Loss 0.0019 | Win/lose count 6.0/3.0 (3.0)\n",
            "Epoch 020/200 | Loss 0.0032 | Win/lose count 2.5/3.0 (-0.5)\n",
            "Epoch 021/200 | Loss 0.0034 | Win/lose count 19.0/3.0 (16.0)\n",
            "Epoch 022/200 | Loss 0.0503 | Win/lose count 12.5/4.0 (8.5)\n",
            "Epoch 023/200 | Loss 0.0019 | Win/lose count 11.5/2.0 (9.5)\n",
            "Epoch 024/200 | Loss 0.0013 | Win/lose count 7.5/3.0 (4.5)\n",
            "Epoch 025/200 | Loss 0.0033 | Win/lose count 15.5/3.0 (12.5)\n",
            "Epoch 026/200 | Loss 0.0040 | Win/lose count 6.5/4.0 (2.5)\n",
            "Epoch 027/200 | Loss 0.0503 | Win/lose count 9.0/2.0 (7.0)\n",
            "Epoch 028/200 | Loss 0.0050 | Win/lose count 11.0/3.0 (8.0)\n",
            "Epoch 029/200 | Loss 0.0026 | Win/lose count 14.5/4.0 (10.5)\n",
            "Epoch 030/200 | Loss 0.0012 | Win/lose count 13.0/1.0 (12.0)\n",
            "Epoch 031/200 | Loss 0.0032 | Win/lose count 16.5/4.0 (12.5)\n",
            "Epoch 032/200 | Loss 0.0019 | Win/lose count 4.5/4.0 (0.5)\n",
            "Epoch 033/200 | Loss 0.0063 | Win/lose count 16.0/2.0 (14.0)\n",
            "Epoch 034/200 | Loss 0.0019 | Win/lose count 15.5/3.0 (12.5)\n",
            "Epoch 035/200 | Loss 0.0052 | Win/lose count 15.5/5.0 (10.5)\n",
            "Epoch 036/200 | Loss 0.0018 | Win/lose count 11.0/3.0 (8.0)\n",
            "Epoch 037/200 | Loss 0.0031 | Win/lose count 7.0/3.0 (4.0)\n",
            "Epoch 038/200 | Loss 0.0042 | Win/lose count 6.0/0 (6.0)\n",
            "Epoch 039/200 | Loss 0.0026 | Win/lose count 9.5/2.0 (7.5)\n",
            "Epoch 040/200 | Loss 0.0048 | Win/lose count 16.5/4.0 (12.5)\n",
            "Epoch 041/200 | Loss 0.0040 | Win/lose count 14.5/4.0 (10.5)\n",
            "Epoch 042/200 | Loss 0.0031 | Win/lose count 4.0/1.0 (3.0)\n",
            "Epoch 043/200 | Loss 0.0022 | Win/lose count 15.0/5.0 (10.0)\n",
            "Epoch 044/200 | Loss 0.0030 | Win/lose count 16.5/5.0 (11.5)\n",
            "Epoch 045/200 | Loss 0.0530 | Win/lose count 18.5/2.0 (16.5)\n",
            "Epoch 046/200 | Loss 0.0034 | Win/lose count 18.5/1.0 (17.5)\n",
            "Epoch 047/200 | Loss 0.0076 | Win/lose count 14.0/1.0 (13.0)\n",
            "Epoch 048/200 | Loss 0.0543 | Win/lose count 11.0/6.0 (5.0)\n",
            "Epoch 049/200 | Loss 0.0023 | Win/lose count 6.5/1.0 (5.5)\n",
            "Epoch 050/200 | Loss 0.0015 | Win/lose count 6.0/1.0 (5.0)\n",
            "Epoch 051/200 | Loss 0.0022 | Win/lose count 22.5/6.0 (16.5)\n",
            "Epoch 052/200 | Loss 0.0021 | Win/lose count 20.5/3.0 (17.5)\n",
            "Epoch 053/200 | Loss 0.0029 | Win/lose count 24.5/2.0 (22.5)\n",
            "Epoch 054/200 | Loss 0.0039 | Win/lose count 16.0/1.0 (15.0)\n",
            "Epoch 055/200 | Loss 0.0018 | Win/lose count 20.0/0 (20.0)\n",
            "Epoch 056/200 | Loss 0.0020 | Win/lose count 16.0/6.0 (10.0)\n",
            "Epoch 057/200 | Loss 0.0030 | Win/lose count 16.0/2.0 (14.0)\n",
            "Epoch 058/200 | Loss 0.0627 | Win/lose count 11.5/2.0 (9.5)\n",
            "Epoch 059/200 | Loss 0.0038 | Win/lose count 20.0/3.0 (17.0)\n",
            "Epoch 060/200 | Loss 0.0085 | Win/lose count 12.5/5.0 (7.5)\n",
            "Epoch 061/200 | Loss 0.0053 | Win/lose count 25.0/6.0 (19.0)\n",
            "Epoch 062/200 | Loss 0.0015 | Win/lose count 14.5/2.0 (12.5)\n",
            "Epoch 063/200 | Loss 0.0060 | Win/lose count 11.5/2.0 (9.5)\n",
            "Epoch 064/200 | Loss 0.0040 | Win/lose count 25.5/4.0 (21.5)\n",
            "Epoch 065/200 | Loss 0.0032 | Win/lose count 12.0/4.0 (8.0)\n",
            "Epoch 066/200 | Loss 0.0033 | Win/lose count 9.0/2.0 (7.0)\n",
            "Epoch 067/200 | Loss 0.0041 | Win/lose count 13.0/2.0 (11.0)\n",
            "Epoch 068/200 | Loss 0.0037 | Win/lose count 9.0/1.0 (8.0)\n",
            "Epoch 069/200 | Loss 0.0010 | Win/lose count 14.0/2.0 (12.0)\n",
            "Epoch 070/200 | Loss 0.0026 | Win/lose count 23.0/3.0 (20.0)\n",
            "Epoch 071/200 | Loss 0.0028 | Win/lose count 19.5/4.0 (15.5)\n",
            "Epoch 072/200 | Loss 0.0035 | Win/lose count 15.5/1.0 (14.5)\n",
            "Epoch 073/200 | Loss 0.0045 | Win/lose count 13.5/3.0 (10.5)\n",
            "Epoch 074/200 | Loss 0.0031 | Win/lose count 20.5/4.0 (16.5)\n",
            "Epoch 075/200 | Loss 0.0006 | Win/lose count 16.5/4.0 (12.5)\n",
            "Epoch 076/200 | Loss 0.0564 | Win/lose count 18.0/2.0 (16.0)\n",
            "Epoch 077/200 | Loss 0.0026 | Win/lose count 17.5/2.0 (15.5)\n",
            "Epoch 078/200 | Loss 0.0046 | Win/lose count 15.0/5.0 (10.0)\n",
            "Epoch 079/200 | Loss 0.0029 | Win/lose count 15.0/2.0 (13.0)\n",
            "Epoch 080/200 | Loss 0.0035 | Win/lose count 12.0/1.0 (11.0)\n",
            "Epoch 081/200 | Loss 0.0019 | Win/lose count 18.5/1.0 (17.5)\n",
            "Epoch 082/200 | Loss 0.0031 | Win/lose count 8.0/1.0 (7.0)\n",
            "Epoch 083/200 | Loss 0.0071 | Win/lose count 11.0/1.0 (10.0)\n",
            "Epoch 084/200 | Loss 0.0021 | Win/lose count 12.0/2.0 (10.0)\n",
            "Epoch 085/200 | Loss 0.0030 | Win/lose count 23.5/1.0 (22.5)\n",
            "Epoch 086/200 | Loss 0.0035 | Win/lose count 13.5/5.0 (8.5)\n",
            "Epoch 087/200 | Loss 0.0040 | Win/lose count 14.0/1.0 (13.0)\n",
            "Epoch 088/200 | Loss 0.0014 | Win/lose count 14.5/1.0 (13.5)\n",
            "Epoch 089/200 | Loss 0.0028 | Win/lose count 10.0/3.0 (7.0)\n",
            "Epoch 090/200 | Loss 0.0478 | Win/lose count 14.5/6.0 (8.5)\n",
            "Epoch 091/200 | Loss 0.0016 | Win/lose count 26.5/1.0 (25.5)\n",
            "Epoch 092/200 | Loss 0.0463 | Win/lose count 18.0/3.0 (15.0)\n",
            "Epoch 093/200 | Loss 0.0210 | Win/lose count 21.0/2.0 (19.0)\n",
            "Epoch 094/200 | Loss 0.0078 | Win/lose count 13.5/3.0 (10.5)\n",
            "Epoch 095/200 | Loss 0.0108 | Win/lose count 2.0/0 (2.0)\n",
            "Epoch 096/200 | Loss 0.0023 | Win/lose count 14.0/1.0 (13.0)\n",
            "Epoch 097/200 | Loss 0.0077 | Win/lose count 10.5/3.0 (7.5)\n",
            "Epoch 098/200 | Loss 0.0018 | Win/lose count 23.0/1.0 (22.0)\n",
            "Epoch 099/200 | Loss 0.0034 | Win/lose count 19.5/3.0 (16.5)\n",
            "Epoch 100/200 | Loss 0.0029 | Win/lose count 7.0/2.0 (5.0)\n",
            "Epoch 101/200 | Loss 0.0011 | Win/lose count 23.0/4.0 (19.0)\n",
            "Epoch 102/200 | Loss 0.0028 | Win/lose count 18.5/4.0 (14.5)\n",
            "Epoch 103/200 | Loss 0.0045 | Win/lose count 19.0/2.0 (17.0)\n",
            "Epoch 104/200 | Loss 0.0532 | Win/lose count 22.0/2.0 (20.0)\n",
            "Epoch 105/200 | Loss 0.0019 | Win/lose count 12.5/2.0 (10.5)\n",
            "Epoch 106/200 | Loss 0.0034 | Win/lose count 18.0/5.0 (13.0)\n",
            "Epoch 107/200 | Loss 0.0015 | Win/lose count 26.0/0 (26.0)\n",
            "Epoch 108/200 | Loss 0.0011 | Win/lose count 16.0/4.0 (12.0)\n",
            "Epoch 109/200 | Loss 0.0012 | Win/lose count 16.5/3.0 (13.5)\n",
            "Epoch 110/200 | Loss 0.0015 | Win/lose count 21.0/1.0 (20.0)\n",
            "Epoch 111/200 | Loss 0.0756 | Win/lose count 12.5/1.0 (11.5)\n",
            "Epoch 112/200 | Loss 0.0033 | Win/lose count 15.0/3.0 (12.0)\n",
            "Epoch 113/200 | Loss 0.0045 | Win/lose count 14.0/3.0 (11.0)\n",
            "Epoch 114/200 | Loss 0.0041 | Win/lose count 19.5/3.0 (16.5)\n",
            "Epoch 115/200 | Loss 0.0604 | Win/lose count 19.0/2.0 (17.0)\n",
            "Epoch 116/200 | Loss 0.0039 | Win/lose count 12.5/5.0 (7.5)\n",
            "Epoch 117/200 | Loss 0.0032 | Win/lose count 13.0/2.0 (11.0)\n",
            "Epoch 118/200 | Loss 0.0022 | Win/lose count 5.0/0 (5.0)\n",
            "Epoch 119/200 | Loss 0.0030 | Win/lose count 18.0/4.0 (14.0)\n",
            "Epoch 120/200 | Loss 0.0028 | Win/lose count 15.0/2.0 (13.0)\n",
            "Epoch 121/200 | Loss 0.0035 | Win/lose count 18.0/4.0 (14.0)\n",
            "Epoch 122/200 | Loss 0.0016 | Win/lose count 7.0/4.0 (3.0)\n",
            "Epoch 123/200 | Loss 0.0023 | Win/lose count 8.0/3.0 (5.0)\n",
            "Epoch 124/200 | Loss 0.0025 | Win/lose count 24.5/1.0 (23.5)\n",
            "Epoch 125/200 | Loss 0.0014 | Win/lose count 16.5/2.0 (14.5)\n",
            "Epoch 126/200 | Loss 0.0018 | Win/lose count 16.0/2.0 (14.0)\n",
            "Epoch 127/200 | Loss 0.0027 | Win/lose count 18.5/1.0 (17.5)\n",
            "Epoch 128/200 | Loss 0.0021 | Win/lose count 16.5/0 (16.5)\n",
            "Epoch 129/200 | Loss 0.0018 | Win/lose count 13.0/4.0 (9.0)\n",
            "Epoch 130/200 | Loss 0.0052 | Win/lose count 22.0/0 (22.0)\n",
            "Epoch 131/200 | Loss 0.0014 | Win/lose count 24.5/2.0 (22.5)\n",
            "Epoch 132/200 | Loss 0.0520 | Win/lose count 21.0/1.0 (20.0)\n",
            "Epoch 133/200 | Loss 0.0026 | Win/lose count 12.0/1.0 (11.0)\n",
            "Epoch 134/200 | Loss 0.0025 | Win/lose count 22.5/1.0 (21.5)\n",
            "Epoch 135/200 | Loss 0.0022 | Win/lose count 15.0/3.0 (12.0)\n",
            "Epoch 136/200 | Loss 0.0017 | Win/lose count 23.5/3.0 (20.5)\n",
            "Epoch 137/200 | Loss 0.0020 | Win/lose count 9.0/1.0 (8.0)\n",
            "Epoch 138/200 | Loss 0.0036 | Win/lose count 15.0/1.0 (14.0)\n",
            "Epoch 139/200 | Loss 0.0029 | Win/lose count 8.0/3.0 (5.0)\n",
            "Epoch 140/200 | Loss 0.0041 | Win/lose count 18.5/1.0 (17.5)\n",
            "Epoch 141/200 | Loss 0.0027 | Win/lose count 15.5/5.0 (10.5)\n",
            "Epoch 142/200 | Loss 0.0022 | Win/lose count 16.0/2.0 (14.0)\n",
            "Epoch 143/200 | Loss 0.0028 | Win/lose count 25.5/3.0 (22.5)\n",
            "Epoch 144/200 | Loss 0.0018 | Win/lose count 16.0/1.0 (15.0)\n",
            "Epoch 145/200 | Loss 0.0020 | Win/lose count 21.5/4.0 (17.5)\n",
            "Epoch 146/200 | Loss 0.0525 | Win/lose count 13.5/2.0 (11.5)\n",
            "Epoch 147/200 | Loss 0.0035 | Win/lose count 19.5/7.0 (12.5)\n",
            "Epoch 148/200 | Loss 0.0025 | Win/lose count 23.5/3.0 (20.5)\n",
            "Epoch 149/200 | Loss 0.0038 | Win/lose count 21.5/1.0 (20.5)\n",
            "Epoch 150/200 | Loss 0.0036 | Win/lose count 22.0/0 (22.0)\n",
            "Epoch 151/200 | Loss 0.0027 | Win/lose count 15.5/2.0 (13.5)\n",
            "Epoch 152/200 | Loss 0.0019 | Win/lose count 23.5/2.0 (21.5)\n",
            "Epoch 153/200 | Loss 0.0022 | Win/lose count 7.5/1.0 (6.5)\n",
            "Epoch 154/200 | Loss 0.0025 | Win/lose count 13.5/2.0 (11.5)\n",
            "Epoch 155/200 | Loss 0.0025 | Win/lose count 23.0/3.0 (20.0)\n",
            "Epoch 156/200 | Loss 0.0021 | Win/lose count 14.5/0 (14.5)\n",
            "Epoch 157/200 | Loss 0.0026 | Win/lose count 26.0/3.0 (23.0)\n",
            "Epoch 158/200 | Loss 0.0026 | Win/lose count 15.0/2.0 (13.0)\n",
            "Epoch 159/200 | Loss 0.0020 | Win/lose count 17.5/5.0 (12.5)\n",
            "Epoch 160/200 | Loss 0.0019 | Win/lose count 6.0/1.0 (5.0)\n",
            "Epoch 161/200 | Loss 0.0549 | Win/lose count 16.5/5.0 (11.5)\n",
            "Epoch 162/200 | Loss 0.0015 | Win/lose count 5.5/2.0 (3.5)\n",
            "Epoch 163/200 | Loss 0.0022 | Win/lose count 8.0/1.0 (7.0)\n",
            "Epoch 164/200 | Loss 0.0016 | Win/lose count 19.0/7.0 (12.0)\n",
            "Epoch 165/200 | Loss 0.0518 | Win/lose count 14.0/1.0 (13.0)\n",
            "Epoch 166/200 | Loss 0.0031 | Win/lose count 18.0/5.0 (13.0)\n",
            "Epoch 167/200 | Loss 0.0517 | Win/lose count 15.5/1.0 (14.5)\n",
            "Epoch 168/200 | Loss 0.0144 | Win/lose count 13.5/2.0 (11.5)\n",
            "Epoch 169/200 | Loss 0.0028 | Win/lose count 4.0/3.0 (1.0)\n",
            "Epoch 170/200 | Loss 0.0019 | Win/lose count 10.5/0 (10.5)\n",
            "Epoch 171/200 | Loss 0.0020 | Win/lose count 18.5/2.0 (16.5)\n",
            "Epoch 172/200 | Loss 0.0027 | Win/lose count 8.5/3.0 (5.5)\n",
            "Epoch 173/200 | Loss 0.0063 | Win/lose count 12.5/2.0 (10.5)\n",
            "Epoch 174/200 | Loss 0.0026 | Win/lose count 12.0/1.0 (11.0)\n",
            "Epoch 175/200 | Loss 0.0146 | Win/lose count 10.0/0 (10.0)\n",
            "Epoch 176/200 | Loss 0.0010 | Win/lose count 12.0/3.0 (9.0)\n",
            "Epoch 177/200 | Loss 0.0020 | Win/lose count 19.5/2.0 (17.5)\n",
            "Epoch 178/200 | Loss 0.0022 | Win/lose count 15.5/4.0 (11.5)\n",
            "Epoch 179/200 | Loss 0.0517 | Win/lose count 16.5/6.0 (10.5)\n",
            "Epoch 180/200 | Loss 0.0639 | Win/lose count 24.0/3.0 (21.0)\n",
            "Epoch 181/200 | Loss 0.0018 | Win/lose count 12.5/2.0 (10.5)\n",
            "Epoch 182/200 | Loss 0.0015 | Win/lose count 13.0/3.0 (10.0)\n",
            "Epoch 183/200 | Loss 0.0026 | Win/lose count 27.5/0 (27.5)\n",
            "Epoch 184/200 | Loss 0.0048 | Win/lose count 23.0/1.0 (22.0)\n",
            "Epoch 185/200 | Loss 0.0020 | Win/lose count 24.0/3.0 (21.0)\n",
            "Epoch 186/200 | Loss 0.0033 | Win/lose count 14.5/3.0 (11.5)\n",
            "Epoch 187/200 | Loss 0.0017 | Win/lose count 9.5/0 (9.5)\n",
            "Epoch 188/200 | Loss 0.0030 | Win/lose count 14.5/0 (14.5)\n",
            "Epoch 189/200 | Loss 0.1071 | Win/lose count 14.5/4.0 (10.5)\n",
            "Epoch 190/200 | Loss 0.0020 | Win/lose count 18.5/1.0 (17.5)\n",
            "Epoch 191/200 | Loss 0.0017 | Win/lose count 20.0/3.0 (17.0)\n",
            "Epoch 192/200 | Loss 0.0606 | Win/lose count 14.0/3.0 (11.0)\n",
            "Epoch 193/200 | Loss 0.0026 | Win/lose count 21.0/1.0 (20.0)\n",
            "Epoch 194/200 | Loss 0.0014 | Win/lose count 5.0/3.0 (2.0)\n",
            "Epoch 195/200 | Loss 0.0105 | Win/lose count 13.0/6.0 (7.0)\n",
            "Epoch 196/200 | Loss 0.0016 | Win/lose count 17.0/2.0 (15.0)\n",
            "Epoch 197/200 | Loss 0.0017 | Win/lose count 4.5/5.0 (-0.5)\n",
            "Epoch 198/200 | Loss 0.0010 | Win/lose count 20.5/2.0 (18.5)\n",
            "Epoch 199/200 | Loss 0.0039 | Win/lose count 10.0/2.0 (8.0)\n"
          ],
          "name": "stdout"
        },
        {
          "output_type": "execute_result",
          "data": {
            "text/html": [
              "<video alt=\"test\" controls>\n",
              "                <source src=\"data:video/mp4;base64,AAAAIGZ0eXBpc29tAAACAGlzb21pc28yYXZjMW1wNDEAAAAIZnJlZQAAFxFtZGF0AAACrQYF//+p3EXpvebZSLeWLNgg2SPu73gyNjQgLSBjb3JlIDE1MiByMjg1NCBlOWE1OTAzIC0gSC4yNjQvTVBFRy00IEFWQyBjb2RlYyAtIENvcHlsZWZ0IDIwMDMtMjAxNyAtIGh0dHA6Ly93d3cudmlkZW9sYW4ub3JnL3gyNjQuaHRtbCAtIG9wdGlvbnM6IGNhYmFjPTEgcmVmPTMgZGVibG9jaz0xOjA6MCBhbmFseXNlPTB4MToweDExMSBtZT1oZXggc3VibWU9NyBwc3k9MSBwc3lfcmQ9MS4wMDowLjAwIG1peGVkX3JlZj0xIG1lX3JhbmdlPTE2IGNocm9tYV9tZT0xIHRyZWxsaXM9MSA4eDhkY3Q9MCBjcW09MCBkZWFkem9uZT0yMSwxMSBmYXN0X3Bza2lwPTEgY2hyb21hX3FwX29mZnNldD00IHRocmVhZHM9MyBsb29rYWhlYWRfdGhyZWFkcz0xIHNsaWNlZF90aHJlYWRzPTAgbnI9MCBkZWNpbWF0ZT0xIGludGVybGFjZWQ9MCBibHVyYXlfY29tcGF0PTAgY29uc3RyYWluZWRfaW50cmE9MCBiZnJhbWVzPTMgYl9weXJhbWlkPTIgYl9hZGFwdD0xIGJfYmlhcz0wIGRpcmVjdD0xIHdlaWdodGI9MSBvcGVuX2dvcD0wIHdlaWdodHA9MiBrZXlpbnQ9MjUwIGtleWludF9taW49MjUgc2NlbmVjdXQ9NDAgaW50cmFfcmVmcmVzaD0wIHJjX2xvb2thaGVhZD00MCByYz1jcmYgbWJ0cmVlPTEgY3JmPTIzLjAgcWNvbXA9MC42MCBxcG1pbj0wIHFwbWF4PTY5IHFwc3RlcD00IGlwX3JhdGlvPTEuNDAgYXE9MToxLjAwAIAAAALMZYiEADf//vaH+BTZWBP+Wb/9DX/cj9uPrP1xYyEE31qvIejAGS+1H+b/rFFs6Z6UB/fgCJQAc24ZwpHZJ46m/l7iYvgU1QLF8CkfLT+jSmSOcYrRFA+RpNCuNIvUV9UazzzbvA73NaO3jSjQ0PZD6EQJc9KKCU48HnP7cw5poGyhJm3WdXQz5af/gIOntDV5ARriBTGwnoaHZpUKpcgRfXAg8dSY406jJ0HWJqvM7kegMKL+9RGG4/rqmWYk+9ujxKe3yBXLa+Ww2235siVCuln6MwWFI3kjBiKBFW6qiALml02CxGeR9mHkKCY7a+MWIxETBzRt/wP2x+XbKOFYET+o4Augh9zxYiy8KG2gt1CIL6toxUzQogI8OsDW43skLXRXcpq8iiDAi8hXOsJHnR4BKk/uHEEOG4k4x1UQ4tG8hN3WfULhFkEyEqiHb91BvXhqObrGwh2xRWX86vBLEDzv/KztlCTQ2Kp8OY/dojlu7JhsA2+qmG3KS1+kXoXSbPpuBWHecCqBFGAJY9xGAfBhDvT3Oy5b7Y/D2NlPvbKENg68xcf9pMUpMXjKujjgj+d0E4szqbIP+Sx2f8MdFskT0Q2xMUivEMJOut6h6Vt+UtcrAR40LWxPqcADr0MdnvdDJn4JloUU1a+ZuDPh0TcaiJv3W6AvuqBhv73279IFt6tGxQWmudaGzoEvIHJaa48jTwSfK/WdQQ8XMDUUQINbyIL9ujMZk/0MPUJlpYprVwq8imbocrjLElCbasLk1rszYNlQYeaGAxQoahQF6JOJhvXmBaqBPJdk6FSt7EAjNkzyApd5pUUZjv71AmzqgBFtck30ZEFJXMilTau5EjmoanNbc6dgOzIxAvhV9D8Rz18zaidW4SQRjjJt9EpcEt50p2stXINC2ojNkZRCirSpBtxPmqj5icaC3RF8rYUoEqcXOYAAYjtAAX0AAAAhQZoibEN//qeEAR35IrnMsrnvH4FKls/ApnYGLt6/+t8vAAAAEAGeQXkK/wDnxhl1+sUijYEAAAAYQZpDPCGTKYQ3//6nhAIFAFm1vW5c0rKAAAAAHUGaZ0nhDyZTAhn//p4QHHzm+t7XdOtuRuzYTxvRAAAAEUGehUURPC//AbIaOu+xiswtAAAADwGepHRCvwJJYrGC/tBzQQAAABABnqZqQr8BbG5DD6AkHEspAAAAGkGaqEmoQWiZTAhn//6eEASQQ4962wc7HI+AAAAAGEGayUnhClJlMCG//qeEAkHRP9QKqgSpgAAAAB5BmutJ4Q6JlMFNEw3//qeEAoe/rPMjIgUOn2f2mDEAAAAQAZ8KakK/AZN1TyXM+SS4gAAAABpBmwxJ4Q8mUwIb//6nhAz3E/01jr1P7jD5gAAAABdBmy1J4Q8mUwId//6plgbZLUZAWSJC7wAAABJBm1FJ4Q8mUwId//6plgAAlYEAAAASQZ9vRRE8L/8B6r1jVh+6EFgxAAAAEAGfjnRCvwKP2iPK/JTBnTAAAAAQAZ+QakK/Aq3miZEr5OSygAAAABNBm5VJqEFomUwId//+qZYAAJWBAAAAEEGfs0URLC//AesSzT1wvbUAAAAQAZ/SdEK/Ao/aI8r8lMGdMAAAABABn9RqQr8CreaJkSvk5LKBAAAAE0Gb2UmoQWyZTAh3//6plgAAlYAAAAAQQZ/3RRUsL/8B6xLNPXC9tQAAABABnhZ0Qr8Cj9ojyvyUwZ0xAAAAEAGeGGpCvwKt5omRK+TksoAAAAATQZodSahBbJlMCHf//qmWAACVgQAAABBBnjtFFSwv/wHrEs09cL21AAAAEAGeWnRCvwKP2iPK/JTBnTEAAAAQAZ5cakK/Aq3miZEr5OSygQAAABNBmkFJqEFsmUwId//+qZYAAJWAAAAAEEGef0UVLC//AesSzT1wvbUAAAAQAZ6edEK/Ao/aI8r8lMGdMQAAABABnoBqQr8CreaJkSvk5LKAAAAAE0GahUmoQWyZTAh3//6plgAAlYEAAAAQQZ6jRRUsL/8B6xLNPXC9tQAAABABnsJ0Qr8Cj9ojyvyUwZ0xAAAAEAGexGpCvwKt5omRK+TksoEAAAATQZrJSahBbJlMCHf//qmWAACVgQAAABBBnudFFSwv/wHrEs09cL21AAAAEAGfBnRCvwKP2iPK/JTBnTAAAAAQAZ8IakK/Aq3miZEr5OSygAAAABNBmw1JqEFsmUwId//+qZYAAJWBAAAAEEGfK0UVLC//AesSzT1wvbUAAAAQAZ9KdEK/Ao/aI8r8lMGdMAAAABABn0xqQr8CreaJkSvk5LKBAAAAE0GbUUmoQWyZTAh3//6plgAAlYEAAAAQQZ9vRRUsL/8B6xLNPXC9tQAAABABn450Qr8Cj9ojyvyUwZ0wAAAAEAGfkGpCvwKt5omRK+TksoAAAAAeQZuVSahBbJlMCHf//qmWBh9LoHD/HejHUINwOU+ZAAAAEEGfs0UVLC//Aen7v1Ftj4AAAAAPAZ/SdEK/Ao/ZC23uRPIGAAAADwGf1GpCvwJ12h0JptBtwQAAABpBm9hJqEFsmUwId//+qZYBM6WVxml/UkSNgAAAABJBn/ZFFSwr/wJ2bA6JBwr/hn0AAAAPAZ4XakK/AnVtqEaU0FTBAAAAE0GaHEmoQWyZTAh3//6plgAAlYAAAAATQZ46RRUsL/8CAN50zitY7OTYuQAAAA8Bnll0Qr8Cr9HZBsl14+4AAAAQAZ5bakK/Aq5PnOsz8E64gQAAABJBmkBJqEFsmUwIb//+p4QAAScAAAAQQZ5+RRUsL/8CAnAnM2NsXAAAAA8Bnp10Qr8Cr9HZBsl14+4AAAAQAZ6fakK/Aq5PnOsz8E64gQAAABlBmoRJqEFsmUwIb//+p4QM+0C3bx070iTgAAAAEEGeokUVLC//AgEgO1Fti4EAAAAPAZ7BdEK/Aq/R2QbJdePuAAAADwGew2pCvwKwNXMV/dSpgQAAABhBmsVJqEFsmUwIb//+p4QM/iXfC/8fRSUAAAAbQZrmSeEKUmUwId/+qZYGH0ugcP8SJh0eymDBAAAAGEGbCEnhDomUwU0TDv/+qZYAnP0c/JE9IQAAAA8BnydqQr8BibFgXX9+wcAAAAASQZssSeEPJlMCHf/+qZYAAJWAAAAAEkGfSkURPC//AgIjbbjy6XaqYQAAAA8Bn2l0Qr8Cr9HZBsl14+4AAAAQAZ9rakK/Aq5PnOsz8E64gAAAABlBm3BJqEFomUwId//+qZYG2Tm7948+SU9JAAAAEEGfjkURLC//AgEgO1Fti4EAAAAPAZ+tdEK/Aq/R2QbJdePvAAAADgGfr2pCvwKwNA8mBFFFAAAAEkGbtEmoQWyZTAhv//6nhAABJwAAABBBn9JFFSwv/wICLOd3ObYvAAAAEAGf8XRCvwKt1aMkqdGS44AAAAAPAZ/zakK/Aq9nR+GzaPH3AAAAEkGb+EmoQWyZTAhn//6eEAAEfQAAABBBnhZFFSwv/wICcCczY2xcAAAAEAGeNXRCvwKt1aMkqdGS44EAAAAPAZ43akK/Aq9nR+GzaPH3AAAAGEGaOUmoQWyZTAhn//6eEC00KXK2b6aYsAAAABhBmlpJ4QpSZTAhn/6eEAmndN81hj6t848AAAAYQZp7SeEOiZTAhn/+nhAE1+If2yGPrCFlAAAAGUGanEnhDyZTAhv//qeEAM37B/hOC3Qkb0EAAAAZQZq9SeEPJlMCG//+p4QAg3x0+o40JDhlQQAAABdBmsFJ4Q8mUwIZ//6eEADY/PhK/0RNwAAAABRBnv9FETwv/wAy+4Xf7HUsuQ/7AgAAABABnx50Qr8ARV2Y4D7OZHrhAAAADwGfAGpCvwBFdiPJgevcJwAAABtBmwJJqEFomUwIZ//+nhAB+ynHP4dlso/CNSEAAAAaQZsjSeEKUmUwIb/+p4QAzNIn+q4Fan+aN6AAAAAaQZtESeEOiZTAhv/+p4QBPEAWbbEbn/9ysqEAAAAaQZtlSeEPJlMCHf/+qZYBR2kJNrSLT/xanYEAAAASQZuJSeEPJlMCHf/+qZYAAJWBAAAAE0Gfp0URPC//Aem7fRYrdbR7RRUAAAAQAZ/GdEK/ArBAHO2MTapIwAAAABABn8hqQr8CkFgqm+kgrDKgAAAAE0GbzUmoQWiZTAh3//6plgAAlYEAAAAMQZ/rRREsL/8AALKAAAAAEAGeCnRCvwKwQBz9gW4sjYAAAAAPAZ4MakK/AY7OTdZ6s9GVAAAAE0GaEUmoQWyZTAh3//6plgAAlYEAAAAVQZ4vRRUsL/8B6bt9Fit1XUJw6KKBAAAAEAGeTnRCvwKwQBztjE2qSMAAAAAQAZ5QakK/ApBYKpvpIKwyoAAAABNBmlVJqEFsmUwId//+qZYAAJWBAAAAEEGec0UVLC//AesSzT1wvbUAAAAQAZ6SdEK/ArBAHO2MTapIwAAAABABnpRqQr8CkFgqm+kgrDKhAAAAHEGamEmoQWyZTAh3//6plgFM7agH94WoJ+dCQsAAAAAPQZ62RRUsK/8BkyNA1lJBAAAADQGe12pCvwGTsSLespMAAAATQZrcSahBbJlMCHf//qmWAACVgAAAABNBnvpFFSwv/wHVu30WK3V4+0U1AAAAEAGfGXRCvwJ2iTyNizE0FTAAAAAQAZ8bakK/AnVtqD6AkFYZ8QAAABNBmwBJqEFsmUwId//+qZYAAJWBAAAAE0GfPkUVLC//AgDedM4rWOzk2LgAAAAPAZ9ddEK/Aq/R2QbJdePuAAAADwGfX2pCvwKuVlyGkO9DWwAAABNBm0RJqEFsmUwId//+qZYAAJWAAAAAEEGfYkUVLC//AgJwJzNjbF0AAAAPAZ+BdEK/Aq/R2QbJdePuAAAAEAGfg2pCvwKuT5zrM/BOuIEAAAATQZuISahBbJlMCHf//qmWAACVgQAAABBBn6ZFFSwv/wICcCczY2xdAAAADwGfxXRCvwKv0dkGyXXj7wAAAA8Bn8dqQr8CrlZchpDvQ1oAAAAZQZvMSahBbJlMCHf//qmWBtk5u/ePPklPSAAAABBBn+pFFSwv/wIB3x3Oe2LhAAAADwGeCXRCvwGTeTeecWjKgAAAAA8BngtqQr8Cr2dH4bNo8fcAAAATQZoQSahBbJlMCHf//qmWAACVgQAAABBBni5FFSwv/wICcCczY2xdAAAAEAGeTXRCvwKt1aMkqdGS44EAAAAPAZ5PakK/Aq9nR+GzaPH3AAAAEkGaVEmoQWyZTAhv//6nhAABJwAAABBBnnJFFSwv/wICcCczY2xdAAAAEAGekXRCvwKt1aMkqdGS44AAAAAPAZ6TakK/Aq9nR+GzaPH3AAAAGUGalkmoQWyZTBRMN//+p4QM+0C3MOZKekEAAAAQAZ61akK/Aq5PnOsz8E64gAAAABhBmrpJ4QpSZTAhn/6eEC00KiW6++rItoEAAAAQQZ7YRTRML/8CAd8dznti4QAAAA8Bnvd0Qr8BiUmp6s76U0AAAAAPAZ75akK/Aq9nR+GzaPH3AAAAGEGa+0moQWiZTAhv//6nhAz7J74X/j6KSAAAABpBmxxJ4QpSZTAhv/6nhAu21UDh7z4LZ4WD0wAAABlBmz1J4Q6JlMCHf/6plgVLZjhagn2QEPSBAAAAGkGbQEnhDyZTAh3//qmWBR+5Zz/d2q22/LaAAAAAEkGffkURPCv/AnY8XmYY/ZmhgAAAAA8Bn59qQr8Cdj70cNm0qQsAAAAeQZuCSahBaJlMFPDv/qmWBUtqoHD/I5tQLRTDlBHwAAAAEAGfoWpCvwKRNG80utZNbMEAAAASQZumSeEKUmUwId/+qZYAAJWAAAAAE0GfxEU0TC//AgDedM4rWOzk2LkAAAAPAZ/jdEK/Aq/R2QbJdePvAAAAEAGf5WpCvwKuT5zrM/BOuIEAAAATQZvqSahBaJlMCHf//qmWAACVgQAAABBBnghFESwv/wICcCczY2xcAAAADwGeJ3RCvwKv0dkGyXXj7gAAABABnilqQr8Crk+c6zPwTriBAAAAE0GaLkmoQWyZTAh3//6plgAAlYAAAAAQQZ5MRRUsL/8CAnAnM2NsXAAAAA8Bnmt0Qr8Cr9HZBsl14+8AAAAPAZ5takK/Aq5WXIaQ70NbAAAAE0GackmoQWyZTAh3//6plgAAlYEAAAAQQZ6QRRUsL/8CAnAnM2NsXAAAAA8Bnq90Qr8Cr9HZBsl14+4AAAAPAZ6xakK/Aq5WXIaQ70NbAAAAGUGatkmoQWyZTAh3//6plgbZObv3jz5JT0gAAAAQQZ7URRUsL/8CAd8dznti4AAAAA8BnvN0Qr8Bk3k3nnFoyoEAAAAPAZ71akK/Aq9nR+GzaPH3AAAAE0Ga+kmoQWyZTAh3//6plgAAlYEAAAAQQZ8YRRUsL/8CAnAnM2NsXQAAABABnzd0Qr8CrdWjJKnRkuOAAAAADwGfOWpCvwKvZ0fhs2jx9wAAABNBmz5JqEFsmUwId//+qZYAAJWAAAAAEEGfXEUVLC//AgJwJzNjbF0AAAAPAZ97dEK/Aq3ZC23uRPH3AAAADwGffWpCvwKvZ0fhs2jx9wAAABJBm2JJqEFsmUwIb//+p4QAAScAAAAQQZ+ARRUsL/8CAnAnM2NsXQAAAA8Bn790Qr8CrdkLbe5E8fcAAAAPAZ+hakK/Aq9nR+GzaPH3AAAAF0GbpkmoQWyZTAhn//6eEC00KiSRrSLaAAAAEEGfxEUVLC//AgHfHc57YuEAAAAPAZ/jdEK/Aq7Re1Wd8FTBAAAAEAGf5WpCvwKuT5zrM/BOuIEAAAAaQZvpS6hCEFskRggoB/IB/YeAIV/+OEAAEXEAAAAmQZ4HRRUsK/8Cr2PtQcTdqsNJKihslL1nYNDZJAhKDywYfWgiJsAAAAAjAZ4oakK/Aq+nXcPh/nFyDYR9leDqZHxAnqj1OAdT96dV5swAAAwIbW9vdgAAAGxtdmhkAAAAAAAAAAAAAAAAAAAD6AAAH5AAAQAAAQAAAAAAAAAAAAAAAAEAAAAAAAAAAAAAAAAAAAABAAAAAAAAAAAAAAAAAABAAAAAAAAAAAAAAAAAAAAAAAAAAAAAAAAAAAAAAAAAAgAACzJ0cmFrAAAAXHRraGQAAAADAAAAAAAAAAAAAAABAAAAAAAAH5AAAAAAAAAAAAAAAAAAAAAAAAEAAAAAAAAAAAAAAAAAAAABAAAAAAAAAAAAAAAAAABAAAAAARAAAAEQAAAAAAAkZWR0cwAAABxlbHN0AAAAAAAAAAEAAB+QAAAEAAABAAAAAAqqbWRpYQAAACBtZGhkAAAAAAAAAAAAAAAAAAAyAAABlABVxAAAAAAALWhkbHIAAAAAAAAAAHZpZGUAAAAAAAAAAAAAAABWaWRlb0hhbmRsZXIAAAAKVW1pbmYAAAAUdm1oZAAAAAEAAAAAAAAAAAAAACRkaW5mAAAAHGRyZWYAAAAAAAAAAQAAAAx1cmwgAAAAAQAAChVzdGJsAAAAlXN0c2QAAAAAAAAAAQAAAIVhdmMxAAAAAAAAAAEAAAAAAAAAAAAAAAAAAAAAARABEABIAAAASAAAAAAAAAABAAAAAAAAAAAAAAAAAAAAAAAAAAAAAAAAAAAAAAAAAAAAGP//AAAAL2F2Y0MB9AAN/+EAF2f0AA2RmygiEdCAAAADAIAAABkHihTLAQAFaOvjxEgAAAAYc3R0cwAAAAAAAAABAAAAygAAAgAAAAAUc3RzcwAAAAAAAAABAAAAAQAABeBjdHRzAAAAAAAAALoAAAABAAAEAAAAAAEAAAYAAAAAAQAAAgAAAAABAAAEAAAAAAEAAAoAAAAAAQAABAAAAAABAAAAAAAAAAEAAAIAAAAAAgAABAAAAAABAAAGAAAAAAEAAAIAAAAAAgAABAAAAAABAAAKAAAAAAEAAAQAAAAAAQAAAAAAAAABAAACAAAAAAEAAAoAAAAAAQAABAAAAAABAAAAAAAAAAEAAAIAAAAAAQAACgAAAAABAAAEAAAAAAEAAAAAAAAAAQAAAgAAAAABAAAKAAAAAAEAAAQAAAAAAQAAAAAAAAABAAACAAAAAAEAAAoAAAAAAQAABAAAAAABAAAAAAAAAAEAAAIAAAAAAQAACgAAAAABAAAEAAAAAAEAAAAAAAAAAQAAAgAAAAABAAAKAAAAAAEAAAQAAAAAAQAAAAAAAAABAAACAAAAAAEAAAoAAAAAAQAABAAAAAABAAAAAAAAAAEAAAIAAAAAAQAACgAAAAABAAAEAAAAAAEAAAAAAAAAAQAAAgAAAAABAAAKAAAAAAEAAAQAAAAAAQAAAAAAAAABAAACAAAAAAEAAAgAAAAAAgAAAgAAAAABAAAKAAAAAAEAAAQAAAAAAQAAAAAAAAABAAACAAAAAAEAAAoAAAAAAQAABAAAAAABAAAAAAAAAAEAAAIAAAAAAQAACgAAAAABAAAEAAAAAAEAAAAAAAAAAQAAAgAAAAACAAAEAAAAAAEAAAYAAAAAAQAAAgAAAAABAAAKAAAAAAEAAAQAAAAAAQAAAAAAAAABAAACAAAAAAEAAAoAAAAAAQAABAAAAAABAAAAAAAAAAEAAAIAAAAAAQAACgAAAAABAAAEAAAAAAEAAAAAAAAAAQAAAgAAAAABAAAKAAAAAAEAAAQAAAAAAQAAAAAAAAABAAACAAAAAAUAAAQAAAAAAQAACgAAAAABAAAEAAAAAAEAAAAAAAAAAQAAAgAAAAAEAAAEAAAAAAEAAAoAAAAAAQAABAAAAAABAAAAAAAAAAEAAAIAAAAAAQAACgAAAAABAAAEAAAAAAEAAAAAAAAAAQAAAgAAAAABAAAKAAAAAAEAAAQAAAAAAQAAAAAAAAABAAACAAAAAAEAAAoAAAAAAQAABAAAAAABAAAAAAAAAAEAAAIAAAAAAQAACAAAAAACAAACAAAAAAEAAAoAAAAAAQAABAAAAAABAAAAAAAAAAEAAAIAAAAAAQAACgAAAAABAAAEAAAAAAEAAAAAAAAAAQAAAgAAAAABAAAKAAAAAAEAAAQAAAAAAQAAAAAAAAABAAACAAAAAAEAAAoAAAAAAQAABAAAAAABAAAAAAAAAAEAAAIAAAAAAQAACgAAAAABAAAEAAAAAAEAAAAAAAAAAQAAAgAAAAABAAAKAAAAAAEAAAQAAAAAAQAAAAAAAAABAAACAAAAAAEAAAoAAAAAAQAABAAAAAABAAAAAAAAAAEAAAIAAAAAAQAABgAAAAABAAACAAAAAAEAAAoAAAAAAQAABAAAAAABAAAAAAAAAAEAAAIAAAAAAwAABAAAAAABAAAIAAAAAAIAAAIAAAAAAQAABgAAAAABAAACAAAAAAEAAAoAAAAAAQAABAAAAAABAAAAAAAAAAEAAAIAAAAAAQAACgAAAAABAAAEAAAAAAEAAAAAAAAAAQAAAgAAAAABAAAKAAAAAAEAAAQAAAAAAQAAAAAAAAABAAACAAAAAAEAAAoAAAAAAQAABAAAAAABAAAAAAAAAAEAAAIAAAAAAQAACgAAAAABAAAEAAAAAAEAAAAAAAAAAQAAAgAAAAABAAAKAAAAAAEAAAQAAAAAAQAAAAAAAAABAAACAAAAAAEAAAoAAAAAAQAABAAAAAABAAAAAAAAAAEAAAIAAAAAAQAACgAAAAABAAAEAAAAAAEAAAAAAAAAAQAAAgAAAAABAAAKAAAAAAEAAAQAAAAAAQAAAAAAAAABAAACAAAAAAEAAAgAAAAAAgAAAgAAAAAcc3RzYwAAAAAAAAABAAAAAQAAAMoAAAABAAADPHN0c3oAAAAAAAAAAAAAAMoAAAWBAAAAJQAAABQAAAAcAAAAIQAAABUAAAATAAAAFAAAAB4AAAAcAAAAIgAAABQAAAAeAAAAGwAAABYAAAAWAAAAFAAAABQAAAAXAAAAFAAAABQAAAAUAAAAFwAAABQAAAAUAAAAFAAAABcAAAAUAAAAFAAAABQAAAAXAAAAFAAAABQAAAAUAAAAFwAAABQAAAAUAAAAFAAAABcAAAAUAAAAFAAAABQAAAAXAAAAFAAAABQAAAAUAAAAFwAAABQAAAAUAAAAFAAAACIAAAAUAAAAEwAAABMAAAAeAAAAFgAAABMAAAAXAAAAFwAAABMAAAAUAAAAFgAAABQAAAATAAAAFAAAAB0AAAAUAAAAEwAAABMAAAAcAAAAHwAAABwAAAATAAAAFgAAABYAAAATAAAAFAAAAB0AAAAUAAAAEwAAABIAAAAWAAAAFAAAABQAAAATAAAAFgAAABQAAAAUAAAAEwAAABwAAAAcAAAAHAAAAB0AAAAdAAAAGwAAABgAAAAUAAAAEwAAAB8AAAAeAAAAHgAAAB4AAAAWAAAAFwAAABQAAAAUAAAAFwAAABAAAAAUAAAAEwAAABcAAAAZAAAAFAAAABQAAAAXAAAAFAAAABQAAAAUAAAAIAAAABMAAAARAAAAFwAAABcAAAAUAAAAFAAAABcAAAAXAAAAEwAAABMAAAAXAAAAFAAAABMAAAAUAAAAFwAAABQAAAATAAAAEwAAAB0AAAAUAAAAEwAAABMAAAAXAAAAFAAAABQAAAATAAAAFgAAABQAAAAUAAAAEwAAAB0AAAAUAAAAHAAAABQAAAATAAAAEwAAABwAAAAeAAAAHQAAAB4AAAAWAAAAEwAAACIAAAAUAAAAFgAAABcAAAATAAAAFAAAABcAAAAUAAAAEwAAABQAAAAXAAAAFAAAABMAAAATAAAAFwAAABQAAAATAAAAEwAAAB0AAAAUAAAAEwAAABMAAAAXAAAAFAAAABQAAAATAAAAFwAAABQAAAATAAAAEwAAABYAAAAUAAAAEwAAABMAAAAbAAAAFAAAABMAAAAUAAAAHgAAACoAAAAnAAAAFHN0Y28AAAAAAAAAAQAAADAAAABidWR0YQAAAFptZXRhAAAAAAAAACFoZGxyAAAAAAAAAABtZGlyYXBwbAAAAAAAAAAAAAAAAC1pbHN0AAAAJal0b28AAAAdZGF0YQAAAAEAAAAATGF2ZjU3LjgzLjEwMA==\" type=\"video/mp4\" />\n",
              "             </video>"
            ],
            "text/plain": [
              "<IPython.core.display.HTML object>"
            ]
          },
          "metadata": {
            "tags": []
          },
          "execution_count": 29
        }
      ]
    },
    {
      "cell_type": "markdown",
      "metadata": {
        "id": "anB1JDQHkAbA",
        "colab_type": "text"
      },
      "source": [
        "***\n",
        "***\n",
        "__Question 9__ Test both algorithms and compare their performances. Which issue(s) do you observe? Observe also different behaviors by changing the temperature."
      ]
    },
    {
      "cell_type": "markdown",
      "metadata": {
        "id": "IKJQbJ4CHY84",
        "colab_type": "text"
      },
      "source": [
        "I do not really understand why in this part scores are much lower during test than during train.. Anyway both in train and test the CNN is always better regardless of the temperature. The higher the temperature the more food there is on the map thus the highest score for both. We can see that the mouse often gets stuck in some places."
      ]
    },
    {
      "cell_type": "code",
      "metadata": {
        "id": "8KIGJA16kAbB",
        "colab_type": "code",
        "outputId": "5dc12692-8e13-4c38-ce81-ec32a3e5a3c1",
        "colab": {
          "base_uri": "https://localhost:8080/",
          "height": 765
        }
      },
      "source": [
        "env = Environment(grid_size=size, max_time=T,temperature=0.6)\n",
        "agent_cnn = DQN_CNN(size, lr=.1, epsilon = 0.1, memory_size=2000, batch_size = 32)\n",
        "agent_cnn.load(name_weights='cnn_trainmodel.h5',name_model='cnn_trainmodel.json')\n",
        "\n",
        "agent_fc = DQN_FC(size, lr=.1, epsilon = 0.1, memory_size=2000, batch_size = 32)\n",
        "agent_cnn.load(name_weights='fc_trainmodel.h5',name_model='fc_trainmodel.json')\n",
        "print('Test of the CNN')\n",
        "test(agent_cnn,env,epochs_test,prefix='cnn_test')\n",
        "print('Test of the FC')\n",
        "test(agent_fc,env,epochs_test,prefix='fc_test')"
      ],
      "execution_count": 0,
      "outputs": [
        {
          "output_type": "stream",
          "text": [
            "Test of the CNN\n",
            "Win/lose count 38.0/3.0. Average score (35.0)\n",
            "Win/lose count 41.5/8.0. Average score (34.25)\n",
            "Win/lose count 26.0/3.0. Average score (30.5)\n",
            "Win/lose count 25.0/1.0. Average score (28.875)\n",
            "Win/lose count 37.0/4.0. Average score (29.7)\n",
            "Win/lose count 33.0/4.0. Average score (29.583333333333332)\n",
            "Win/lose count 33.5/4.0. Average score (29.571428571428573)\n",
            "Win/lose count 36.5/5.0. Average score (29.8125)\n",
            "Win/lose count 17.5/6.0. Average score (27.77777777777778)\n",
            "Win/lose count 36.0/4.0. Average score (28.2)\n",
            "Win/lose count 41.0/6.0. Average score (28.818181818181817)\n",
            "Win/lose count 25.0/3.0. Average score (28.25)\n",
            "Win/lose count 27.5/4.0. Average score (27.884615384615383)\n",
            "Win/lose count 13.5/3.0. Average score (26.642857142857142)\n",
            "Win/lose count 32.5/3.0. Average score (26.833333333333332)\n",
            "Win/lose count 19.0/1.0. Average score (26.28125)\n",
            "Win/lose count 33.5/3.0. Average score (26.529411764705884)\n",
            "Win/lose count 33.0/2.0. Average score (26.77777777777778)\n",
            "Win/lose count 37.5/6.0. Average score (27.026315789473685)\n",
            "Win/lose count 36.0/3.0. Average score (27.325)\n",
            "Final score: 27.325\n",
            "Test of the FC\n",
            "Win/lose count 2.5/3.0. Average score (-0.5)\n",
            "Win/lose count 6.0/2.0. Average score (1.75)\n",
            "Win/lose count 3.5/3.0. Average score (1.3333333333333333)\n",
            "Win/lose count 3.0/0. Average score (1.75)\n",
            "Win/lose count 5.5/3.0. Average score (1.9)\n",
            "Win/lose count 4.0/0. Average score (2.25)\n",
            "Win/lose count 7.5/5.0. Average score (2.2857142857142856)\n",
            "Win/lose count 6.0/5.0. Average score (2.125)\n",
            "Win/lose count 8.5/6.0. Average score (2.1666666666666665)\n",
            "Win/lose count 6.0/1.0. Average score (2.45)\n",
            "Win/lose count 2.5/1.0. Average score (2.3636363636363638)\n",
            "Win/lose count 1.0/4.0. Average score (1.9166666666666667)\n",
            "Win/lose count 8.5/4.0. Average score (2.1153846153846154)\n",
            "Win/lose count 3.0/4.0. Average score (1.8928571428571428)\n",
            "Win/lose count 7.0/5.0. Average score (1.9)\n",
            "Win/lose count 4.0/7.0. Average score (1.59375)\n",
            "Win/lose count 3.0/1.0. Average score (1.6176470588235294)\n",
            "Win/lose count 6.0/5.0. Average score (1.5833333333333333)\n",
            "Win/lose count 7.5/8.0. Average score (1.4736842105263157)\n",
            "Win/lose count 1.5/2.0. Average score (1.375)\n",
            "Final score: 1.375\n"
          ],
          "name": "stdout"
        }
      ]
    },
    {
      "cell_type": "code",
      "metadata": {
        "id": "iPcp96tJkAbE",
        "colab_type": "code",
        "outputId": "376eaa1e-c020-491f-dafe-4950155ddb03",
        "colab": {
          "base_uri": "https://localhost:8080/",
          "height": 293
        }
      },
      "source": [
        "HTML(display_videos('cnn_test10.mp4'))"
      ],
      "execution_count": 0,
      "outputs": [
        {
          "output_type": "execute_result",
          "data": {
            "text/html": [
              "<video alt=\"test\" controls>\n",
              "                <source src=\"data:video/mp4;base64,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\" type=\"video/mp4\" />\n",
              "             </video>"
            ],
            "text/plain": [
              "<IPython.core.display.HTML object>"
            ]
          },
          "metadata": {
            "tags": []
          },
          "execution_count": 19
        }
      ]
    },
    {
      "cell_type": "code",
      "metadata": {
        "id": "uPWiBxrVkAbH",
        "colab_type": "code",
        "colab": {}
      },
      "source": [
        "HTML(display_videos('fc_test10.mp4'))"
      ],
      "execution_count": 0,
      "outputs": []
    },
    {
      "cell_type": "markdown",
      "metadata": {
        "id": "tgD30751kAbK",
        "colab_type": "text"
      },
      "source": [
        ""
      ]
    },
    {
      "cell_type": "markdown",
      "metadata": {
        "id": "VLMhQM_RkAbL",
        "colab_type": "text"
      },
      "source": [
        "***\n",
        "\n",
        "The algorithm tends to not explore the map which can be an issue. We propose two ideas in order to encourage exploration:\n",
        "1. Incorporating a decreasing $\\epsilon$-greedy exploration. You can use the method ```set_epsilon```\n",
        "2. Append via the environment a new state that describes if a cell has been visited or not\n",
        "\n",
        "***\n",
        "__Question 10__ Design a new ```train_explore``` function and environment class ```EnvironmentExploring``` to tackle the issue of exploration.\n",
        "\n"
      ]
    },
    {
      "cell_type": "code",
      "metadata": {
        "id": "4TAG-gJ89OQU",
        "colab_type": "code",
        "colab": {}
      },
      "source": [
        ""
      ],
      "execution_count": 0,
      "outputs": []
    },
    {
      "cell_type": "code",
      "metadata": {
        "id": "DGF1PRBQkAbL",
        "colab_type": "code",
        "outputId": "a95c0ce8-d819-4c83-fd78-5b015ada6cff",
        "colab": {
          "base_uri": "https://localhost:8080/",
          "height": 54
        }
      },
      "source": [
        "def train_explore(agent,env,epoch,epsilon_decay,prefix='') : \n",
        "  # decay_interval is the number of epochs between updates \n",
        "  # when we update epsilon the new value is epsilon *epsilon_decay \n",
        "    # Number of won games\n",
        "    score = 0\n",
        "    loss = 0\n",
        "\n",
        "    for e in range(epoch):\n",
        "        # At each epoch, we restart to a fresh game and get the initial state\n",
        "        state = env.reset()\n",
        "        # This assumes that the games will terminate\n",
        "        game_over = False\n",
        "\n",
        "        loss = 0\n",
        "        win = 0\n",
        "        lose = 0\n",
        "\n",
        "        time = 0\n",
        "        while not game_over:\n",
        "            # The agent performs an action\n",
        "            action = agent.act(state)\n",
        "\n",
        "            # Apply an action to the environment, get the next state, the reward\n",
        "            # and if the games end\n",
        "            prev_state = state\n",
        "            state, reward, game_over = env.act(action, train=True)\n",
        "\n",
        "            # Update the counters\n",
        "            if reward > 0:\n",
        "                win = win + reward\n",
        "            if reward < 0:\n",
        "                lose = lose -reward\n",
        "\n",
        "            # Apply the reinforcement strategy\n",
        "            loss += agent.reinforce(prev_state, state,  action, reward, game_over)\n",
        "            time +=1\n",
        "        loss /= time\n",
        "        #update epsilon\n",
        "        \n",
        "        agent.set_epsilon(agent.epsilon * epsilon_decay)\n",
        "        # Save as a mp4\n",
        "        if e % 10 == 0:\n",
        "            env.draw(prefix+str(e))\n",
        "\n",
        "        # Update stats\n",
        "        score += win-lose\n",
        "\n",
        "        print(\"Epoch {:03d}/{:03d} | Loss {:.4f} | Win/lose count {}/{} ({})\"\n",
        "              .format(e, epoch, loss, round(win,2), round(lose,2), round(win-lose,2)))\n",
        "        agent.save(name_weights=prefix+'model.h5',name_model=prefix+'model.json')\n",
        "        \n",
        "class EnvironmentExploring(object):\n",
        "    def __init__(self, grid_size=10, max_time=500, temperature=0.1):\n",
        "        grid_size = grid_size+4\n",
        "        self.grid_size = grid_size\n",
        "        self.max_time = max_time\n",
        "        self.temperature = temperature\n",
        "\n",
        "        #board on which one plays\n",
        "        self.board = np.zeros((grid_size,grid_size))\n",
        "        self.position = np.zeros((grid_size,grid_size))\n",
        "        self.malus_position = np.zeros((grid_size,grid_size))\n",
        "\n",
        "        # coordinate of the cat\n",
        "        self.x = 0\n",
        "        self.y = 1\n",
        "\n",
        "        # self time\n",
        "        self.t = 0\n",
        "\n",
        "        self.scale=16\n",
        "\n",
        "        self.to_draw = np.zeros((max_time+2, grid_size*self.scale, grid_size*self.scale, 3))\n",
        "\n",
        "\n",
        "    def draw(self,e):\n",
        "        skvideo.io.vwrite(str(e) + '.mp4', self.to_draw)\n",
        "\n",
        "    def get_frame(self,t):\n",
        "        b = np.zeros((self.grid_size,self.grid_size,3))+128\n",
        "        b[self.board>0,0] = 256\n",
        "        b[self.board < 0, 2] = 256\n",
        "        b[self.x,self.y,:]=256\n",
        "        b[-2:,:,:]=0\n",
        "        b[:,-2:,:]=0\n",
        "        b[:2,:,:]=0\n",
        "        b[:,:2,:]=0\n",
        "        \n",
        "        b =  cv2.resize(b, None, fx=self.scale, fy=self.scale, interpolation=cv2.INTER_NEAREST)\n",
        "\n",
        "        self.to_draw[t,:,:,:]=b\n",
        "\n",
        "\n",
        "    def act(self, action, train = False):\n",
        "        \"\"\"This function returns the new state, reward and decides if the\n",
        "        game ends.\"\"\"\n",
        "\n",
        "        self.get_frame(int(self.t))\n",
        "\n",
        "        self.position = np.zeros((self.grid_size, self.grid_size))\n",
        "\n",
        "        self.position[0:2,:]= -1  #Out of the Island\n",
        "        self.position[:,0:2] = -1\n",
        "        self.position[-2:, :] = -1\n",
        "        self.position[-2:, :] = -1\n",
        "\n",
        "        self.position[self.x, self.y] = 1  #position of the mouse\n",
        "        if action == 0:\n",
        "            if self.x == self.grid_size-3:\n",
        "                self.x = self.x-1\n",
        "            else:\n",
        "                self.x = self.x + 1\n",
        "        elif action == 1:\n",
        "            if self.x == 2:\n",
        "                self.x = self.x+1\n",
        "            else:\n",
        "                self.x = self.x-1\n",
        "        elif action == 2:\n",
        "            if self.y == self.grid_size - 3:\n",
        "                self.y = self.y - 1\n",
        "            else:\n",
        "                self.y = self.y + 1\n",
        "        elif action == 3:\n",
        "            if self.y == 2:\n",
        "                self.y = self.y + 1\n",
        "            else:\n",
        "                self.y = self.y - 1\n",
        "        else:\n",
        "            RuntimeError('Error: action not recognized')\n",
        "\n",
        "        self.t = self.t + 1\n",
        "        reward = 0\n",
        "        if train:\n",
        "          reward -= self.malus_position[self.x, self.y]\n",
        "        self.malus_position[self.x, self.y] = 0.1 #already visited malus\n",
        "\n",
        "        reward = reward + self.board[self.x, self.y]\n",
        "\n",
        "        self.board[self.x, self.y] = 0 # The mouse has eaten what was previously on the cell.\n",
        "        game_over = self.t > self.max_time\n",
        "        state = np.concatenate((self.malus_position.reshape(self.grid_size, self.grid_size,1),\n",
        "                                self.board.reshape(self.grid_size, self.grid_size,1),\n",
        "                        self.position.reshape(self.grid_size, self.grid_size,1)),axis=2)\n",
        "        state = state[self.x-2:self.x+3,self.y-2:self.y+3,:]\n",
        "\n",
        "        return state, reward, game_over # return the new state ,the reward and a boolean for the end of the game\n",
        "\n",
        "    def reset(self):\n",
        "        \"\"\"This function resets the game and returns the initial state\"\"\"\n",
        "\n",
        "        self.x = np.random.randint(3, self.grid_size-3, size=1)[0]\n",
        "        self.y = np.random.randint(3, self.grid_size-3, size=1)[0]\n",
        "\n",
        "\n",
        "        bonus = 0.5*np.random.binomial(1,self.temperature,size=self.grid_size**2) # put cheese\n",
        "        bonus = bonus.reshape(self.grid_size,self.grid_size)\n",
        "\n",
        "        malus = -1.0*np.random.binomial(1,self.temperature,size=self.grid_size**2)#put poison\n",
        "        malus = malus.reshape(self.grid_size, self.grid_size)\n",
        "\n",
        "        self.to_draw = np.zeros((self.max_time+2, self.grid_size*self.scale, self.grid_size*self.scale, 3))\n",
        "\n",
        "\n",
        "        malus[bonus>0]=0\n",
        "\n",
        "        self.board = bonus + malus\n",
        "\n",
        "        self.position = np.zeros((self.grid_size, self.grid_size))\n",
        "        self.position[0:2,:]= -1\n",
        "        self.position[:,0:2] = -1\n",
        "        self.position[-2:, :] = -1\n",
        "        self.position[-2:, :] = -1\n",
        "        self.board[self.x,self.y] = 0\n",
        "        self.t = 0\n",
        "\n",
        "        state = np.concatenate((self.malus_position.reshape(self.grid_size, self.grid_size,1),\n",
        "                                self.board.reshape(self.grid_size, self.grid_size,1),\n",
        "                        self.position.reshape(self.grid_size, self.grid_size,1)),axis=2)\n",
        "        state = state[self.x - 2:self.x + 3, self.y - 2:self.y + 3, :]\n",
        "        return state\n",
        "'''  \n",
        "## use those samples of code:\n",
        "#In train explore:\n",
        "state, reward, game_over = env.act(action, train=True)\n",
        "\n",
        "## In Environment exploring:\n",
        "# You will have to change n_state to 3 because you will use one more layer!\n",
        "reward = 0\n",
        "if train:\n",
        "    reward = -self.malus_position[self.x, self.y]\n",
        "self.malus_position[self.x, self.y] = 0.1\n",
        "\n",
        "reward = reward + self.board[self.x, self.y]\n",
        "# 3 \"feature\" states instead of 2\n",
        "state = np.concatenate((self.malus_position.reshape(self.grid_size, self.grid_size,1),\n",
        "                                self.board.reshape(self.grid_size, self.grid_size,1),\n",
        "                        self.position.reshape(self.grid_size, self.grid_size,1)),axis=2)'''"
      ],
      "execution_count": 0,
      "outputs": [
        {
          "output_type": "execute_result",
          "data": {
            "text/plain": [
              "'  \\n## use those samples of code:\\n#In train explore:\\nstate, reward, game_over = env.act(action, train=True)\\n\\n## In Environment exploring:\\n# You will have to change n_state to 3 because you will use one more layer!\\nreward = 0\\nif train:\\n    reward = -self.malus_position[self.x, self.y]\\nself.malus_position[self.x, self.y] = 0.1\\n\\nreward = reward + self.board[self.x, self.y]\\n# 3 \"feature\" states instead of 2\\nstate = np.concatenate((self.malus_position.reshape(self.grid_size, self.grid_size,1),\\n                                self.board.reshape(self.grid_size, self.grid_size,1),\\n                        self.position.reshape(self.grid_size, self.grid_size,1)),axis=2)'"
            ]
          },
          "metadata": {
            "tags": []
          },
          "execution_count": 23
        }
      ]
    },
    {
      "cell_type": "code",
      "metadata": {
        "id": "vQaXZFOlKy8e",
        "colab_type": "code",
        "outputId": "355c2f14-e52f-4489-f81c-e34a839de4c0",
        "colab": {
          "base_uri": "https://localhost:8080/",
          "height": 1000
        }
      },
      "source": [
        "env = EnvironmentExploring(grid_size=size, max_time=T, temperature=temperature)\n",
        "\n",
        "agent = DQN_CNN(size, lr=.1, epsilon = 0.95, memory_size=2000, batch_size = 32,n_state=3)\n",
        "train_explore(agent, env, 200, 0.05, prefix='cnn_train_explore')"
      ],
      "execution_count": 0,
      "outputs": [
        {
          "output_type": "stream",
          "text": [
            "Epoch 000/200 | Loss 0.0225 | Win/lose count 5.5/28.6 (-23.1)\n",
            "Epoch 001/200 | Loss 0.0130 | Win/lose count 11.2/17.5 (-6.3)\n",
            "Epoch 002/200 | Loss 0.0101 | Win/lose count 6.8/19.1 (-12.3)\n",
            "Epoch 003/200 | Loss 0.0098 | Win/lose count 7.7/18.0 (-10.3)\n",
            "Epoch 004/200 | Loss 0.0091 | Win/lose count 2.5/20.5 (-18.0)\n",
            "Epoch 005/200 | Loss 0.0064 | Win/lose count 2.0/19.6 (-17.6)\n",
            "Epoch 006/200 | Loss 0.0064 | Win/lose count 7.9/18.1 (-10.2)\n",
            "Epoch 007/200 | Loss 0.0060 | Win/lose count 7.6/18.1 (-10.5)\n",
            "Epoch 008/200 | Loss 0.0059 | Win/lose count 2.9/19.4 (-16.5)\n",
            "Epoch 009/200 | Loss 0.0070 | Win/lose count 15.5/15.6 (-0.1)\n",
            "Epoch 010/200 | Loss 0.0088 | Win/lose count 6.8/18.4 (-11.6)\n",
            "Epoch 011/200 | Loss 0.0085 | Win/lose count 7.8/17.6 (-9.8)\n",
            "Epoch 012/200 | Loss 0.0077 | Win/lose count 7.3/18.2 (-10.9)\n",
            "Epoch 013/200 | Loss 0.0066 | Win/lose count 9.6/19.6 (-10.0)\n",
            "Epoch 014/200 | Loss 0.0089 | Win/lose count 7.6/18.2 (-10.6)\n",
            "Epoch 015/200 | Loss 0.0087 | Win/lose count 4.1/19.1 (-15.0)\n",
            "Epoch 016/200 | Loss 0.0088 | Win/lose count 1.8/19.7 (-17.9)\n",
            "Epoch 017/200 | Loss 0.0080 | Win/lose count 7.6/18.2 (-10.6)\n",
            "Epoch 018/200 | Loss 0.0075 | Win/lose count 6.8/20.2 (-13.4)\n",
            "Epoch 019/200 | Loss 0.0067 | Win/lose count 6.1/19.6 (-13.5)\n",
            "Epoch 020/200 | Loss 0.0063 | Win/lose count 10.5/18.4 (-7.9)\n",
            "Epoch 021/200 | Loss 0.0063 | Win/lose count 10.8/18.4 (-7.6)\n",
            "Epoch 022/200 | Loss 0.0073 | Win/lose count 4.0/19.0 (-15.0)\n",
            "Epoch 023/200 | Loss 0.0072 | Win/lose count 8.0/19.1 (-11.1)\n",
            "Epoch 024/200 | Loss 0.0083 | Win/lose count 16.2/17.1 (-0.9)\n",
            "Epoch 025/200 | Loss 0.0085 | Win/lose count 12.0/18.1 (-6.1)\n",
            "Epoch 026/200 | Loss 0.0104 | Win/lose count 11.6/17.2 (-5.6)\n",
            "Epoch 027/200 | Loss 0.0117 | Win/lose count 11.2/18.2 (-7.0)\n",
            "Epoch 028/200 | Loss 0.0111 | Win/lose count 5.6/19.7 (-14.1)\n",
            "Epoch 029/200 | Loss 0.0133 | Win/lose count 13.2/18.8 (-5.6)\n",
            "Epoch 030/200 | Loss 0.0178 | Win/lose count 0.8/20.9 (-20.1)\n",
            "Epoch 031/200 | Loss 0.0149 | Win/lose count 11.2/17.3 (-6.1)\n",
            "Epoch 032/200 | Loss 0.0144 | Win/lose count 5.6/19.7 (-14.1)\n",
            "Epoch 033/200 | Loss 0.0123 | Win/lose count 13.2/17.8 (-4.6)\n",
            "Epoch 034/200 | Loss 0.0141 | Win/lose count 8.8/17.9 (-9.1)\n",
            "Epoch 035/200 | Loss 0.0134 | Win/lose count 7.2/18.3 (-11.1)\n",
            "Epoch 036/200 | Loss 0.0130 | Win/lose count 22.4/17.5 (4.9)\n",
            "Epoch 037/200 | Loss 0.0136 | Win/lose count 15.2/17.3 (-2.1)\n",
            "Epoch 038/200 | Loss 0.0126 | Win/lose count 6.4/20.5 (-14.1)\n",
            "Epoch 039/200 | Loss 0.0123 | Win/lose count 11.6/21.2 (-9.6)\n",
            "Epoch 040/200 | Loss 0.0121 | Win/lose count 9.2/19.8 (-10.6)\n",
            "Epoch 041/200 | Loss 0.0124 | Win/lose count 12.0/20.1 (-8.1)\n",
            "Epoch 042/200 | Loss 0.0137 | Win/lose count 7.2/19.3 (-12.1)\n",
            "Epoch 043/200 | Loss 0.0129 | Win/lose count 1.6/20.7 (-19.1)\n",
            "Epoch 044/200 | Loss 0.0126 | Win/lose count 13.6/16.7 (-3.1)\n",
            "Epoch 045/200 | Loss 0.0129 | Win/lose count 2.4/20.5 (-18.1)\n",
            "Epoch 046/200 | Loss 0.0128 | Win/lose count 18.4/16.5 (1.9)\n",
            "Epoch 047/200 | Loss 0.0122 | Win/lose count 13.2/16.8 (-3.6)\n",
            "Epoch 048/200 | Loss 0.0129 | Win/lose count 12.4/21.0 (-8.6)\n",
            "Epoch 049/200 | Loss 0.0121 | Win/lose count 3.2/20.3 (-17.1)\n",
            "Epoch 050/200 | Loss 0.0114 | Win/lose count 4.8/18.9 (-14.1)\n",
            "Epoch 051/200 | Loss 0.0107 | Win/lose count 13.2/17.8 (-4.6)\n",
            "Epoch 052/200 | Loss 0.0128 | Win/lose count 14.4/20.5 (-6.1)\n",
            "Epoch 053/200 | Loss 0.0144 | Win/lose count 14.0/16.6 (-2.6)\n",
            "Epoch 054/200 | Loss 0.0130 | Win/lose count 1.2/20.8 (-19.6)\n",
            "Epoch 055/200 | Loss 0.0138 | Win/lose count 8.4/18.0 (-9.6)\n",
            "Epoch 056/200 | Loss 0.0125 | Win/lose count 18.0/19.6 (-1.6)\n",
            "Epoch 057/200 | Loss 0.0137 | Win/lose count 15.2/19.3 (-4.1)\n",
            "Epoch 058/200 | Loss 0.0143 | Win/lose count 16.8/16.9 (-0.1)\n",
            "Epoch 059/200 | Loss 0.0150 | Win/lose count 12.4/19.0 (-6.6)\n",
            "Epoch 060/200 | Loss 0.0149 | Win/lose count 12.4/19.0 (-6.6)\n",
            "Epoch 061/200 | Loss 0.0147 | Win/lose count 20.4/21.0 (-0.6)\n",
            "Epoch 062/200 | Loss 0.0151 | Win/lose count 18.4/23.5 (-5.1)\n",
            "Epoch 063/200 | Loss 0.0147 | Win/lose count 8.0/20.1 (-12.1)\n",
            "Epoch 064/200 | Loss 0.0166 | Win/lose count 18.0/17.6 (0.4)\n",
            "Epoch 065/200 | Loss 0.0185 | Win/lose count 15.2/17.3 (-2.1)\n",
            "Epoch 066/200 | Loss 0.0177 | Win/lose count 15.2/16.3 (-1.1)\n",
            "Epoch 067/200 | Loss 0.0181 | Win/lose count 17.2/16.8 (0.4)\n",
            "Epoch 068/200 | Loss 0.0186 | Win/lose count 18.0/18.6 (-0.6)\n",
            "Epoch 069/200 | Loss 0.0183 | Win/lose count 10.8/17.4 (-6.6)\n",
            "Epoch 070/200 | Loss 0.0185 | Win/lose count 13.2/19.8 (-6.6)\n",
            "Epoch 071/200 | Loss 0.0204 | Win/lose count 17.2/15.8 (1.4)\n",
            "Epoch 072/200 | Loss 0.0180 | Win/lose count 16.0/17.1 (-1.1)\n",
            "Epoch 073/200 | Loss 0.0187 | Win/lose count 16.0/19.1 (-3.1)\n",
            "Epoch 074/200 | Loss 0.0168 | Win/lose count 13.6/18.7 (-5.1)\n",
            "Epoch 075/200 | Loss 0.0170 | Win/lose count 18.0/16.6 (1.4)\n",
            "Epoch 076/200 | Loss 0.0173 | Win/lose count 12.0/17.1 (-5.1)\n",
            "Epoch 077/200 | Loss 0.0171 | Win/lose count 7.2/19.3 (-12.1)\n",
            "Epoch 078/200 | Loss 0.0160 | Win/lose count 16.4/20.0 (-3.6)\n",
            "Epoch 079/200 | Loss 0.0170 | Win/lose count 17.6/19.7 (-2.1)\n",
            "Epoch 080/200 | Loss 0.0186 | Win/lose count 12.4/22.0 (-9.6)\n",
            "Epoch 081/200 | Loss 0.0187 | Win/lose count 18.0/20.6 (-2.6)\n",
            "Epoch 082/200 | Loss 0.0197 | Win/lose count 5.6/18.7 (-13.1)\n",
            "Epoch 083/200 | Loss 0.0175 | Win/lose count 14.8/23.4 (-8.6)\n",
            "Epoch 084/200 | Loss 0.0175 | Win/lose count 12.8/17.9 (-5.1)\n",
            "Epoch 085/200 | Loss 0.0160 | Win/lose count 12.0/21.1 (-9.1)\n",
            "Epoch 086/200 | Loss 0.0185 | Win/lose count 17.2/16.8 (0.4)\n",
            "Epoch 087/200 | Loss 0.0192 | Win/lose count 9.6/17.7 (-8.1)\n",
            "Epoch 088/200 | Loss 0.0189 | Win/lose count 17.2/16.8 (0.4)\n",
            "Epoch 089/200 | Loss 0.0202 | Win/lose count 16.8/18.9 (-2.1)\n",
            "Epoch 090/200 | Loss 0.0193 | Win/lose count 22.4/18.5 (3.9)\n",
            "Epoch 091/200 | Loss 0.0216 | Win/lose count 16.8/17.9 (-1.1)\n",
            "Epoch 092/200 | Loss 0.0213 | Win/lose count 16.4/23.0 (-6.6)\n",
            "Epoch 093/200 | Loss 0.0222 | Win/lose count 14.4/19.5 (-5.1)\n",
            "Epoch 094/200 | Loss 0.0220 | Win/lose count 15.6/20.2 (-4.6)\n",
            "Epoch 095/200 | Loss 0.0216 | Win/lose count 20.0/19.1 (0.9)\n",
            "Epoch 096/200 | Loss 0.0219 | Win/lose count 15.2/22.3 (-7.1)\n",
            "Epoch 097/200 | Loss 0.0233 | Win/lose count 17.2/16.8 (0.4)\n",
            "Epoch 098/200 | Loss 0.0246 | Win/lose count 13.6/19.7 (-6.1)\n",
            "Epoch 099/200 | Loss 0.0246 | Win/lose count 7.6/20.2 (-12.6)\n",
            "Epoch 100/200 | Loss 0.0233 | Win/lose count 13.6/19.7 (-6.1)\n",
            "Epoch 101/200 | Loss 0.0200 | Win/lose count 11.6/22.2 (-10.6)\n",
            "Epoch 102/200 | Loss 0.0194 | Win/lose count 17.6/22.7 (-5.1)\n",
            "Epoch 103/200 | Loss 0.0203 | Win/lose count 17.6/17.7 (-0.1)\n",
            "Epoch 104/200 | Loss 0.0209 | Win/lose count 18.4/19.5 (-1.1)\n",
            "Epoch 105/200 | Loss 0.0215 | Win/lose count 16.4/17.0 (-0.6)\n",
            "Epoch 106/200 | Loss 0.0197 | Win/lose count 15.6/17.2 (-1.6)\n",
            "Epoch 107/200 | Loss 0.0212 | Win/lose count 4.0/19.1 (-15.1)\n",
            "Epoch 108/200 | Loss 0.0188 | Win/lose count 14.8/19.4 (-4.6)\n",
            "Epoch 109/200 | Loss 0.0186 | Win/lose count 21.2/18.8 (2.4)\n",
            "Epoch 110/200 | Loss 0.0202 | Win/lose count 9.2/18.8 (-9.6)\n",
            "Epoch 111/200 | Loss 0.0209 | Win/lose count 19.6/18.2 (1.4)\n",
            "Epoch 112/200 | Loss 0.0228 | Win/lose count 15.6/18.2 (-2.6)\n",
            "Epoch 113/200 | Loss 0.0200 | Win/lose count 13.6/18.7 (-5.1)\n",
            "Epoch 114/200 | Loss 0.0198 | Win/lose count 18.0/17.6 (0.4)\n",
            "Epoch 115/200 | Loss 0.0207 | Win/lose count 16.8/19.9 (-3.1)\n",
            "Epoch 116/200 | Loss 0.0212 | Win/lose count 18.0/16.6 (1.4)\n",
            "Epoch 117/200 | Loss 0.0212 | Win/lose count 19.6/17.2 (2.4)\n",
            "Epoch 118/200 | Loss 0.0226 | Win/lose count 18.4/16.5 (1.9)\n",
            "Epoch 119/200 | Loss 0.0247 | Win/lose count 17.2/19.8 (-2.6)\n",
            "Epoch 120/200 | Loss 0.0236 | Win/lose count 19.6/19.2 (0.4)\n",
            "Epoch 121/200 | Loss 0.0228 | Win/lose count 13.2/20.8 (-7.6)\n",
            "Epoch 122/200 | Loss 0.0237 | Win/lose count 20.0/18.1 (1.9)\n",
            "Epoch 123/200 | Loss 0.0230 | Win/lose count 0.8/19.9 (-19.1)\n",
            "Epoch 124/200 | Loss 0.0187 | Win/lose count 14.8/18.4 (-3.6)\n",
            "Epoch 125/200 | Loss 0.0180 | Win/lose count 20.8/17.9 (2.9)\n",
            "Epoch 126/200 | Loss 0.0187 | Win/lose count 16.0/17.1 (-1.1)\n",
            "Epoch 127/200 | Loss 0.0186 | Win/lose count 15.2/16.3 (-1.1)\n",
            "Epoch 128/200 | Loss 0.0171 | Win/lose count 10.4/19.5 (-9.1)\n",
            "Epoch 129/200 | Loss 0.0171 | Win/lose count 17.6/18.7 (-1.1)\n",
            "Epoch 130/200 | Loss 0.0158 | Win/lose count 13.6/21.7 (-8.1)\n",
            "Epoch 131/200 | Loss 0.0172 | Win/lose count 12.0/19.1 (-7.1)\n",
            "Epoch 132/200 | Loss 0.0164 | Win/lose count 18.4/16.5 (1.9)\n",
            "Epoch 133/200 | Loss 0.0166 | Win/lose count 9.6/18.7 (-9.1)\n",
            "Epoch 134/200 | Loss 0.0162 | Win/lose count 11.2/18.3 (-7.1)\n",
            "Epoch 135/200 | Loss 0.0164 | Win/lose count 18.0/17.6 (0.4)\n",
            "Epoch 136/200 | Loss 0.0167 | Win/lose count 24.0/14.1 (9.9)\n",
            "Epoch 137/200 | Loss 0.0183 | Win/lose count 9.2/18.8 (-9.6)\n",
            "Epoch 138/200 | Loss 0.0194 | Win/lose count 12.4/18.0 (-5.6)\n",
            "Epoch 139/200 | Loss 0.0188 | Win/lose count 16.4/20.0 (-3.6)\n",
            "Epoch 140/200 | Loss 0.0201 | Win/lose count 11.6/18.2 (-6.6)\n",
            "Epoch 141/200 | Loss 0.0216 | Win/lose count 15.2/17.3 (-2.1)\n",
            "Epoch 142/200 | Loss 0.0234 | Win/lose count 18.4/17.5 (0.9)\n",
            "Epoch 143/200 | Loss 0.0209 | Win/lose count 15.2/20.3 (-5.1)\n",
            "Epoch 144/200 | Loss 0.0234 | Win/lose count 13.6/18.7 (-5.1)\n",
            "Epoch 145/200 | Loss 0.0215 | Win/lose count 18.0/16.6 (1.4)\n",
            "Epoch 146/200 | Loss 0.0205 | Win/lose count 16.4/17.0 (-0.6)\n",
            "Epoch 147/200 | Loss 0.0214 | Win/lose count 16.8/18.9 (-2.1)\n",
            "Epoch 148/200 | Loss 0.0227 | Win/lose count 11.6/19.2 (-7.6)\n",
            "Epoch 149/200 | Loss 0.0238 | Win/lose count 17.2/21.8 (-4.6)\n",
            "Epoch 150/200 | Loss 0.0227 | Win/lose count 12.8/19.9 (-7.1)\n",
            "Epoch 151/200 | Loss 0.0235 | Win/lose count 15.6/17.2 (-1.6)\n",
            "Epoch 152/200 | Loss 0.0216 | Win/lose count 16.4/17.0 (-0.6)\n",
            "Epoch 153/200 | Loss 0.0202 | Win/lose count 2.4/19.5 (-17.1)\n",
            "Epoch 154/200 | Loss 0.0209 | Win/lose count 22.4/17.5 (4.9)\n",
            "Epoch 155/200 | Loss 0.0239 | Win/lose count 12.0/19.1 (-7.1)\n",
            "Epoch 156/200 | Loss 0.0215 | Win/lose count 11.2/20.3 (-9.1)\n",
            "Epoch 157/200 | Loss 0.0229 | Win/lose count 17.6/18.7 (-1.1)\n",
            "Epoch 158/200 | Loss 0.0218 | Win/lose count 13.2/16.8 (-3.6)\n",
            "Epoch 159/200 | Loss 0.0214 | Win/lose count 12.0/21.1 (-9.1)\n",
            "Epoch 160/200 | Loss 0.0196 | Win/lose count 11.2/18.3 (-7.1)\n",
            "Epoch 161/200 | Loss 0.0185 | Win/lose count 15.6/18.2 (-2.6)\n",
            "Epoch 162/200 | Loss 0.0193 | Win/lose count 17.2/16.8 (0.4)\n",
            "Epoch 163/200 | Loss 0.0183 | Win/lose count 14.8/18.4 (-3.6)\n",
            "Epoch 164/200 | Loss 0.0211 | Win/lose count 15.2/19.3 (-4.1)\n",
            "Epoch 165/200 | Loss 0.0218 | Win/lose count 15.2/18.3 (-3.1)\n",
            "Epoch 166/200 | Loss 0.0234 | Win/lose count 20.0/16.1 (3.9)\n",
            "Epoch 167/200 | Loss 0.0251 | Win/lose count 22.4/16.5 (5.9)\n",
            "Epoch 168/200 | Loss 0.0253 | Win/lose count 17.6/18.7 (-1.1)\n",
            "Epoch 169/200 | Loss 0.0255 | Win/lose count 18.4/15.5 (2.9)\n",
            "Epoch 170/200 | Loss 0.0277 | Win/lose count 18.0/18.6 (-0.6)\n",
            "Epoch 171/200 | Loss 0.0255 | Win/lose count 13.6/19.7 (-6.1)\n",
            "Epoch 172/200 | Loss 0.0238 | Win/lose count 20.4/19.0 (1.4)\n",
            "Epoch 173/200 | Loss 0.0237 | Win/lose count 18.0/15.6 (2.4)\n",
            "Epoch 174/200 | Loss 0.0240 | Win/lose count 8.8/17.9 (-9.1)\n",
            "Epoch 175/200 | Loss 0.0213 | Win/lose count 8.4/20.0 (-11.6)\n",
            "Epoch 176/200 | Loss 0.0231 | Win/lose count 11.2/17.3 (-6.1)\n",
            "Epoch 177/200 | Loss 0.0218 | Win/lose count 15.6/18.2 (-2.6)\n",
            "Epoch 178/200 | Loss 0.0193 | Win/lose count 14.4/17.5 (-3.1)\n",
            "Epoch 179/200 | Loss 0.0185 | Win/lose count 16.4/17.0 (-0.6)\n",
            "Epoch 180/200 | Loss 0.0174 | Win/lose count 12.4/17.0 (-4.6)\n",
            "Epoch 181/200 | Loss 0.0175 | Win/lose count 12.8/19.9 (-7.1)\n",
            "Epoch 182/200 | Loss 0.0192 | Win/lose count 22.4/16.5 (5.9)\n",
            "Epoch 183/200 | Loss 0.0181 | Win/lose count 16.8/18.9 (-2.1)\n",
            "Epoch 184/200 | Loss 0.0189 | Win/lose count 9.6/17.7 (-8.1)\n",
            "Epoch 185/200 | Loss 0.0234 | Win/lose count 12.4/17.0 (-4.6)\n",
            "Epoch 186/200 | Loss 0.0221 | Win/lose count 14.8/17.4 (-2.6)\n",
            "Epoch 187/200 | Loss 0.0230 | Win/lose count 15.2/19.3 (-4.1)\n",
            "Epoch 188/200 | Loss 0.0212 | Win/lose count 12.4/18.0 (-5.6)\n",
            "Epoch 189/200 | Loss 0.0213 | Win/lose count 14.8/19.4 (-4.6)\n",
            "Epoch 190/200 | Loss 0.0215 | Win/lose count 16.8/16.9 (-0.1)\n",
            "Epoch 191/200 | Loss 0.0225 | Win/lose count 15.2/16.3 (-1.1)\n",
            "Epoch 192/200 | Loss 0.0221 | Win/lose count 18.0/17.6 (0.4)\n",
            "Epoch 193/200 | Loss 0.0211 | Win/lose count 12.8/17.9 (-5.1)\n",
            "Epoch 194/200 | Loss 0.0217 | Win/lose count 15.2/18.3 (-3.1)\n",
            "Epoch 195/200 | Loss 0.0194 | Win/lose count 9.6/20.7 (-11.1)\n",
            "Epoch 196/200 | Loss 0.0189 | Win/lose count 4.8/18.9 (-14.1)\n",
            "Epoch 197/200 | Loss 0.0185 | Win/lose count 16.4/22.0 (-5.6)\n",
            "Epoch 198/200 | Loss 0.0200 | Win/lose count 10.4/18.5 (-8.1)\n",
            "Epoch 199/200 | Loss 0.0219 | Win/lose count 19.6/17.2 (2.4)\n"
          ],
          "name": "stdout"
        }
      ]
    },
    {
      "cell_type": "code",
      "metadata": {
        "id": "YWrSmMiIkAbU",
        "colab_type": "code",
        "outputId": "c55cd3b0-bcc6-494a-f049-1821ba4a3393",
        "colab": {
          "base_uri": "https://localhost:8080/",
          "height": 650
        }
      },
      "source": [
        "# Evaluation\n",
        "test(agent,env,epochs_test,prefix='cnn_test_explore')\n",
        "HTML(display_videos('cnn_test_explore10.mp4'))"
      ],
      "execution_count": 0,
      "outputs": [
        {
          "output_type": "stream",
          "text": [
            "Win/lose count 6.0/0. Average score (6.0)\n",
            "Win/lose count 13.5/1.0. Average score (9.25)\n",
            "Win/lose count 8.0/0. Average score (8.833333333333334)\n",
            "Win/lose count 15.5/2.0. Average score (10.0)\n",
            "Win/lose count 14.5/0. Average score (10.9)\n",
            "Win/lose count 12.5/1.0. Average score (11.0)\n",
            "Win/lose count 1.0/1.0. Average score (9.428571428571429)\n",
            "Win/lose count 5.0/0. Average score (8.875)\n",
            "Win/lose count 13.0/0. Average score (9.333333333333334)\n",
            "Win/lose count 11.0/1.0. Average score (9.4)\n",
            "Win/lose count 17.0/0. Average score (10.090909090909092)\n",
            "Win/lose count 13.5/0. Average score (10.375)\n",
            "Win/lose count 10.0/0. Average score (10.346153846153847)\n",
            "Win/lose count 15.0/0. Average score (10.678571428571429)\n",
            "Win/lose count 3.0/0. Average score (10.166666666666666)\n",
            "Win/lose count 8.0/0. Average score (10.03125)\n",
            "Win/lose count 6.0/0. Average score (9.794117647058824)\n",
            "Win/lose count 0.5/1.0. Average score (9.222222222222221)\n",
            "Win/lose count 7.0/0. Average score (9.105263157894736)\n",
            "Win/lose count 6.0/0. Average score (8.95)\n",
            "Final score: 8.95\n"
          ],
          "name": "stdout"
        },
        {
          "output_type": "execute_result",
          "data": {
            "text/html": [
              "<video alt=\"test\" controls>\n",
              "                <source src=\"data:video/mp4;base64,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\" type=\"video/mp4\" />\n",
              "             </video>"
            ],
            "text/plain": [
              "<IPython.core.display.HTML object>"
            ]
          },
          "metadata": {
            "tags": []
          },
          "execution_count": 28
        }
      ]
    },
    {
      "cell_type": "markdown",
      "metadata": {
        "id": "nPs2BVQlkAbW",
        "colab_type": "text"
      },
      "source": [
        "***\n",
        "***\n",
        "__BONUS question__ Use the expert DQN from the previous question to generate some winning games. Train a model that mimicks its behavior. Compare the performances."
      ]
    },
    {
      "cell_type": "markdown",
      "metadata": {
        "id": "-oxf0kXEkAbY",
        "colab_type": "text"
      },
      "source": [
        ""
      ]
    },
    {
      "cell_type": "markdown",
      "metadata": {
        "id": "Mg44l2v1kAbZ",
        "colab_type": "text"
      },
      "source": [
        "***"
      ]
    }
  ]
}